{
 "cells": [
  {
   "cell_type": "markdown",
   "metadata": {},
   "source": [
    "# Introduction\n",
    "\n",
    "Notebook to test a **boosting** model in the context of traceability between features and bug reports."
   ]
  },
  {
   "cell_type": "markdown",
   "metadata": {},
   "source": [
    "# Load Libraries and Datasets"
   ]
  },
  {
   "cell_type": "code",
   "execution_count": 2,
   "metadata": {},
   "outputs": [],
   "source": [
    "from mod_finder_util import mod_finder_util\n",
    "mod_finder_util.add_modules_origin_search_path()\n",
    "\n",
    "import pandas as pd\n",
    "import numpy as np\n",
    "\n",
    "from modules.models_runner.feat_br_models_runner import Feat_BR_Models_Runner\n",
    "from modules.utils import firefox_dataset_p2 as fd\n",
    "from modules.utils import aux_functions\n",
    "from modules.utils import model_evaluator as m_eval\n",
    "from modules.utils import similarity_measures as sm\n",
    "\n",
    "from sklearn.model_selection import train_test_split\n",
    "from sklearn.metrics import recall_score, precision_score, f1_score\n",
    "from sklearn.linear_model import LogisticRegressionCV\n",
    "\n",
    "from imblearn.over_sampling import SMOTE, ADASYN\n",
    "\n",
    "from enum import Enum\n",
    "from collections import Counter\n",
    "\n",
    "import warnings; warnings.simplefilter('ignore')"
   ]
  },
  {
   "cell_type": "markdown",
   "metadata": {},
   "source": [
    "# Run All Models"
   ]
  },
  {
   "cell_type": "markdown",
   "metadata": {},
   "source": [
    "## Volunteers Only Strategy"
   ]
  },
  {
   "cell_type": "code",
   "execution_count": 3,
   "metadata": {},
   "outputs": [
    {
     "name": "stdout",
     "output_type": "stream",
     "text": [
      "Features.shape: (19, 8)\n",
      "SelectedBugReports.shape: (91, 18)\n",
      "Running LSI model -----\n",
      "Running LDA model -----\n",
      "Running BM25 model -----\n",
      "Running W2V model -----\n"
     ]
    }
   ],
   "source": [
    "models_runner_4 = Feat_BR_Models_Runner()\n",
    "lsi_model_4 = models_runner_4.run_lsi_model()\n",
    "lda_model_4 = models_runner_4.run_lda_model()\n",
    "bm25_model_4 = models_runner_4.run_bm25_model()\n",
    "w2v_model_4 = models_runner_4.run_word2vec_model()"
   ]
  },
  {
   "cell_type": "markdown",
   "metadata": {},
   "source": [
    "# Ensemble Model"
   ]
  },
  {
   "cell_type": "markdown",
   "metadata": {},
   "source": [
    "## Tranform Results Matrices to Vectors"
   ]
  },
  {
   "cell_type": "code",
   "execution_count": 4,
   "metadata": {},
   "outputs": [],
   "source": [
    "def transform_sim_matrix_to_sim_vec(sim_matrix_df, model_name):\n",
    "    sim_vec_df = pd.DataFrame(columns=[model_name])\n",
    "    for col in sim_matrix_df.columns:\n",
    "        for idx, row in sim_matrix_df.iterrows():\n",
    "            artfs_names = '{}_{}'.format(idx, col)\n",
    "            sim_vec_df.at[artfs_names, model_name] = row[col]\n",
    "    return sim_vec_df\n",
    "\n",
    "sim_vec_lsi = transform_sim_matrix_to_sim_vec(lsi_model_4.get_sim_matrix(), 'lsi')\n",
    "sim_vec_lda = transform_sim_matrix_to_sim_vec(lda_model_4.get_sim_matrix(), 'lda')\n",
    "sim_vec_bm25 = transform_sim_matrix_to_sim_vec(bm25_model_4.get_sim_matrix(), 'bm25')\n",
    "sim_vec_wv = transform_sim_matrix_to_sim_vec(w2v_model_4.get_sim_matrix(), 'wv')"
   ]
  },
  {
   "cell_type": "markdown",
   "metadata": {},
   "source": [
    "## Transform Vectors to DataFrame"
   ]
  },
  {
   "cell_type": "code",
   "execution_count": 5,
   "metadata": {},
   "outputs": [
    {
     "data": {
      "text/html": [
       "<div>\n",
       "<style scoped>\n",
       "    .dataframe tbody tr th:only-of-type {\n",
       "        vertical-align: middle;\n",
       "    }\n",
       "\n",
       "    .dataframe tbody tr th {\n",
       "        vertical-align: top;\n",
       "    }\n",
       "\n",
       "    .dataframe thead th {\n",
       "        text-align: right;\n",
       "    }\n",
       "</style>\n",
       "<table border=\"1\" class=\"dataframe\">\n",
       "  <thead>\n",
       "    <tr style=\"text-align: right;\">\n",
       "      <th></th>\n",
       "      <th>lsi</th>\n",
       "      <th>lda</th>\n",
       "      <th>bm25</th>\n",
       "      <th>wv</th>\n",
       "      <th>pred</th>\n",
       "    </tr>\n",
       "  </thead>\n",
       "  <tbody>\n",
       "    <tr>\n",
       "      <th>new_awesome_bar_1248267</th>\n",
       "      <td>0.319831</td>\n",
       "      <td>0.819873</td>\n",
       "      <td>34.8719</td>\n",
       "      <td>0.936612</td>\n",
       "      <td>NaN</td>\n",
       "    </tr>\n",
       "    <tr>\n",
       "      <th>windows_child_mode_1248267</th>\n",
       "      <td>0.0576609</td>\n",
       "      <td>0.38372</td>\n",
       "      <td>13.1232</td>\n",
       "      <td>0.901049</td>\n",
       "      <td>NaN</td>\n",
       "    </tr>\n",
       "    <tr>\n",
       "      <th>apz_async_scrolling_1248267</th>\n",
       "      <td>0.00131195</td>\n",
       "      <td>0.555395</td>\n",
       "      <td>0.431554</td>\n",
       "      <td>0.879576</td>\n",
       "      <td>NaN</td>\n",
       "    </tr>\n",
       "    <tr>\n",
       "      <th>browser_customization_1248267</th>\n",
       "      <td>0.0284819</td>\n",
       "      <td>0.084284</td>\n",
       "      <td>1.94456</td>\n",
       "      <td>0.808218</td>\n",
       "      <td>NaN</td>\n",
       "    </tr>\n",
       "    <tr>\n",
       "      <th>pdf_viewer_1248267</th>\n",
       "      <td>0.00595923</td>\n",
       "      <td>0.181913</td>\n",
       "      <td>0.908809</td>\n",
       "      <td>0.808188</td>\n",
       "      <td>NaN</td>\n",
       "    </tr>\n",
       "  </tbody>\n",
       "</table>\n",
       "</div>"
      ],
      "text/plain": [
       "                                      lsi       lda      bm25        wv pred\n",
       "new_awesome_bar_1248267          0.319831  0.819873   34.8719  0.936612  NaN\n",
       "windows_child_mode_1248267      0.0576609   0.38372   13.1232  0.901049  NaN\n",
       "apz_async_scrolling_1248267    0.00131195  0.555395  0.431554  0.879576  NaN\n",
       "browser_customization_1248267   0.0284819  0.084284   1.94456  0.808218  NaN\n",
       "pdf_viewer_1248267             0.00595923  0.181913  0.908809  0.808188  NaN"
      ]
     },
     "execution_count": 5,
     "metadata": {},
     "output_type": "execute_result"
    }
   ],
   "source": [
    "ensemble_input_df = pd.DataFrame(columns=['pred'], index=sim_vec_lsi.index)\n",
    "\n",
    "out_df = pd.merge(ensemble_input_df, sim_vec_lsi, left_index=True, right_index=True)\n",
    "out_df = pd.merge(out_df, sim_vec_lda, left_index=True, right_index=True)\n",
    "out_df = pd.merge(out_df, sim_vec_bm25, left_index=True, right_index=True)\n",
    "out_df = pd.merge(out_df, sim_vec_wv, left_index=True, right_index=True)\n",
    "\n",
    "new_order = [1,2,3,4,0]\n",
    "out_df = out_df[out_df.columns[new_order]]\n",
    "\n",
    "ensemble_input_df = out_df.copy()\n",
    "ensemble_input_df.head()"
   ]
  },
  {
   "cell_type": "markdown",
   "metadata": {},
   "source": [
    "## Insert Oracle Data"
   ]
  },
  {
   "cell_type": "code",
   "execution_count": 6,
   "metadata": {},
   "outputs": [
    {
     "name": "stdout",
     "output_type": "stream",
     "text": [
      "Feat_BR Volunteers Matrix shape: (91, 19)\n"
     ]
    },
    {
     "data": {
      "text/html": [
       "<div>\n",
       "<style scoped>\n",
       "    .dataframe tbody tr th:only-of-type {\n",
       "        vertical-align: middle;\n",
       "    }\n",
       "\n",
       "    .dataframe tbody tr th {\n",
       "        vertical-align: top;\n",
       "    }\n",
       "\n",
       "    .dataframe thead th {\n",
       "        text-align: right;\n",
       "    }\n",
       "</style>\n",
       "<table border=\"1\" class=\"dataframe\">\n",
       "  <thead>\n",
       "    <tr style=\"text-align: right;\">\n",
       "      <th></th>\n",
       "      <th>lsi</th>\n",
       "      <th>lda</th>\n",
       "      <th>bm25</th>\n",
       "      <th>wv</th>\n",
       "      <th>oracle</th>\n",
       "      <th>pred</th>\n",
       "    </tr>\n",
       "  </thead>\n",
       "  <tbody>\n",
       "    <tr>\n",
       "      <th>new_awesome_bar_1248267</th>\n",
       "      <td>0.319831</td>\n",
       "      <td>0.819873</td>\n",
       "      <td>34.8719</td>\n",
       "      <td>0.936612</td>\n",
       "      <td>0.0</td>\n",
       "      <td>NaN</td>\n",
       "    </tr>\n",
       "    <tr>\n",
       "      <th>windows_child_mode_1248267</th>\n",
       "      <td>0.0576609</td>\n",
       "      <td>0.38372</td>\n",
       "      <td>13.1232</td>\n",
       "      <td>0.901049</td>\n",
       "      <td>0.0</td>\n",
       "      <td>NaN</td>\n",
       "    </tr>\n",
       "    <tr>\n",
       "      <th>apz_async_scrolling_1248267</th>\n",
       "      <td>0.00131195</td>\n",
       "      <td>0.555395</td>\n",
       "      <td>0.431554</td>\n",
       "      <td>0.879576</td>\n",
       "      <td>0.0</td>\n",
       "      <td>NaN</td>\n",
       "    </tr>\n",
       "    <tr>\n",
       "      <th>browser_customization_1248267</th>\n",
       "      <td>0.0284819</td>\n",
       "      <td>0.084284</td>\n",
       "      <td>1.94456</td>\n",
       "      <td>0.808218</td>\n",
       "      <td>0.0</td>\n",
       "      <td>NaN</td>\n",
       "    </tr>\n",
       "    <tr>\n",
       "      <th>pdf_viewer_1248267</th>\n",
       "      <td>0.00595923</td>\n",
       "      <td>0.181913</td>\n",
       "      <td>0.908809</td>\n",
       "      <td>0.808188</td>\n",
       "      <td>0.0</td>\n",
       "      <td>NaN</td>\n",
       "    </tr>\n",
       "    <tr>\n",
       "      <th>context_menu_1248267</th>\n",
       "      <td>0.974364</td>\n",
       "      <td>0.817121</td>\n",
       "      <td>66.323</td>\n",
       "      <td>0.939618</td>\n",
       "      <td>1.0</td>\n",
       "      <td>NaN</td>\n",
       "    </tr>\n",
       "    <tr>\n",
       "      <th>w10_comp_1248267</th>\n",
       "      <td>0.190952</td>\n",
       "      <td>0.820732</td>\n",
       "      <td>16.6925</td>\n",
       "      <td>0.903249</td>\n",
       "      <td>0.0</td>\n",
       "      <td>NaN</td>\n",
       "    </tr>\n",
       "    <tr>\n",
       "      <th>tts_in_desktop_1248267</th>\n",
       "      <td>0.0197604</td>\n",
       "      <td>0.0569175</td>\n",
       "      <td>1.71863</td>\n",
       "      <td>0.889628</td>\n",
       "      <td>0.0</td>\n",
       "      <td>NaN</td>\n",
       "    </tr>\n",
       "    <tr>\n",
       "      <th>tts_in_rm_1248267</th>\n",
       "      <td>0.0262042</td>\n",
       "      <td>0.0571287</td>\n",
       "      <td>1.87935</td>\n",
       "      <td>0.887032</td>\n",
       "      <td>0.0</td>\n",
       "      <td>NaN</td>\n",
       "    </tr>\n",
       "    <tr>\n",
       "      <th>webgl_comp_1248267</th>\n",
       "      <td>0.0180232</td>\n",
       "      <td>0.823955</td>\n",
       "      <td>1.70011</td>\n",
       "      <td>0.79095</td>\n",
       "      <td>0.0</td>\n",
       "      <td>NaN</td>\n",
       "    </tr>\n",
       "    <tr>\n",
       "      <th>video_and_canvas_render_1248267</th>\n",
       "      <td>0.0175904</td>\n",
       "      <td>0.176258</td>\n",
       "      <td>1.73755</td>\n",
       "      <td>0.84005</td>\n",
       "      <td>0.0</td>\n",
       "      <td>NaN</td>\n",
       "    </tr>\n",
       "    <tr>\n",
       "      <th>pointer_lock_api_1248267</th>\n",
       "      <td>0.000917507</td>\n",
       "      <td>0.192962</td>\n",
       "      <td>6.50694</td>\n",
       "      <td>0.885014</td>\n",
       "      <td>0.0</td>\n",
       "      <td>NaN</td>\n",
       "    </tr>\n",
       "    <tr>\n",
       "      <th>webm_eme_1248267</th>\n",
       "      <td>0.0137179</td>\n",
       "      <td>0.157461</td>\n",
       "      <td>1.93928</td>\n",
       "      <td>0.85643</td>\n",
       "      <td>0.0</td>\n",
       "      <td>NaN</td>\n",
       "    </tr>\n",
       "    <tr>\n",
       "      <th>zoom_indicator_1248267</th>\n",
       "      <td>0.00399529</td>\n",
       "      <td>0.0637819</td>\n",
       "      <td>3.54869</td>\n",
       "      <td>0.893283</td>\n",
       "      <td>0.0</td>\n",
       "      <td>NaN</td>\n",
       "    </tr>\n",
       "    <tr>\n",
       "      <th>downloads_dropmaker_1248267</th>\n",
       "      <td>0.00351656</td>\n",
       "      <td>0.0831147</td>\n",
       "      <td>0.850055</td>\n",
       "      <td>0.848086</td>\n",
       "      <td>0.0</td>\n",
       "      <td>NaN</td>\n",
       "    </tr>\n",
       "  </tbody>\n",
       "</table>\n",
       "</div>"
      ],
      "text/plain": [
       "                                         lsi        lda      bm25        wv  \\\n",
       "new_awesome_bar_1248267             0.319831   0.819873   34.8719  0.936612   \n",
       "windows_child_mode_1248267         0.0576609    0.38372   13.1232  0.901049   \n",
       "apz_async_scrolling_1248267       0.00131195   0.555395  0.431554  0.879576   \n",
       "browser_customization_1248267      0.0284819   0.084284   1.94456  0.808218   \n",
       "pdf_viewer_1248267                0.00595923   0.181913  0.908809  0.808188   \n",
       "context_menu_1248267                0.974364   0.817121    66.323  0.939618   \n",
       "w10_comp_1248267                    0.190952   0.820732   16.6925  0.903249   \n",
       "tts_in_desktop_1248267             0.0197604  0.0569175   1.71863  0.889628   \n",
       "tts_in_rm_1248267                  0.0262042  0.0571287   1.87935  0.887032   \n",
       "webgl_comp_1248267                 0.0180232   0.823955   1.70011   0.79095   \n",
       "video_and_canvas_render_1248267    0.0175904   0.176258   1.73755   0.84005   \n",
       "pointer_lock_api_1248267         0.000917507   0.192962   6.50694  0.885014   \n",
       "webm_eme_1248267                   0.0137179   0.157461   1.93928   0.85643   \n",
       "zoom_indicator_1248267            0.00399529  0.0637819   3.54869  0.893283   \n",
       "downloads_dropmaker_1248267       0.00351656  0.0831147  0.850055  0.848086   \n",
       "\n",
       "                                 oracle pred  \n",
       "new_awesome_bar_1248267             0.0  NaN  \n",
       "windows_child_mode_1248267          0.0  NaN  \n",
       "apz_async_scrolling_1248267         0.0  NaN  \n",
       "browser_customization_1248267       0.0  NaN  \n",
       "pdf_viewer_1248267                  0.0  NaN  \n",
       "context_menu_1248267                1.0  NaN  \n",
       "w10_comp_1248267                    0.0  NaN  \n",
       "tts_in_desktop_1248267              0.0  NaN  \n",
       "tts_in_rm_1248267                   0.0  NaN  \n",
       "webgl_comp_1248267                  0.0  NaN  \n",
       "video_and_canvas_render_1248267     0.0  NaN  \n",
       "pointer_lock_api_1248267            0.0  NaN  \n",
       "webm_eme_1248267                    0.0  NaN  \n",
       "zoom_indicator_1248267              0.0  NaN  \n",
       "downloads_dropmaker_1248267         0.0  NaN  "
      ]
     },
     "execution_count": 6,
     "metadata": {},
     "output_type": "execute_result"
    }
   ],
   "source": [
    "orc_vec_df = transform_sim_matrix_to_sim_vec(fd.Feat_BR_Oracles.read_feat_br_volunteers_df().T, 'oracle')\n",
    "\n",
    "ensemble_input_df = pd.merge(ensemble_input_df, orc_vec_df, left_index=True, right_index=True)\n",
    "\n",
    "new_order = [0,1,2,3,5,4]\n",
    "ensemble_input_df = ensemble_input_df[ensemble_input_df.columns[new_order]]\n",
    "\n",
    "ensemble_input_df.head(15)"
   ]
  },
  {
   "cell_type": "markdown",
   "metadata": {},
   "source": [
    "## Balancing Dataset and Split Data on Train and Test"
   ]
  },
  {
   "cell_type": "code",
   "execution_count": 7,
   "metadata": {},
   "outputs": [
    {
     "name": "stdout",
     "output_type": "stream",
     "text": [
      "(1383, 4) (1383,) (346, 4) (346,)\n",
      "Train SMOTE: [(0.0, 1310), (1.0, 1310)]\n"
     ]
    }
   ],
   "source": [
    "ensemble_input_df = ensemble_input_df.infer_objects()\n",
    "\n",
    "X = ensemble_input_df[['lsi','lda','bm25','wv']]\n",
    "y = ensemble_input_df['oracle']\n",
    "\n",
    "X_train, X_test, y_train, y_test = train_test_split(X, y, test_size=0.20, random_state=42, shuffle=True)\n",
    "print(X_train.shape, y_train.shape, X_test.shape, y_test.shape)\n",
    "\n",
    "X_train, y_train = SMOTE().fit_resample(X_train, y_train)\n",
    "print(\"Train SMOTE: {}\".format(sorted(Counter(y_train).items())))\n",
    "\n",
    "X_train = pd.DataFrame(X_train, columns=['lsi','lda','bm25','wv'])\n",
    "y_train = pd.DataFrame(y_train)"
   ]
  },
  {
   "cell_type": "markdown",
   "metadata": {},
   "source": [
    "## Discretizer Function"
   ]
  },
  {
   "cell_type": "code",
   "execution_count": 8,
   "metadata": {},
   "outputs": [],
   "source": [
    "def discretizer(x):\n",
    "    return 0 if x < 0.5 else 1"
   ]
  },
  {
   "cell_type": "markdown",
   "metadata": {},
   "source": [
    "## Logistic Regressor"
   ]
  },
  {
   "cell_type": "code",
   "execution_count": 9,
   "metadata": {},
   "outputs": [
    {
     "name": "stdout",
     "output_type": "stream",
     "text": [
      "Recall - Test Data: 60.000%\n",
      "Precision - Test Data: 14.286%\n",
      "F-Score  - Test Data: 23.077%\n",
      "[[ 2.97455201 -0.07044734  0.0354807  -7.0425815 ]]\n"
     ]
    }
   ],
   "source": [
    "ensemb_model = LogisticRegressionCV(cv=3, scoring='recall').fit(X_train, y_train)\n",
    "\n",
    "preds = ensemb_model.predict_proba(X_test)[:,1]\n",
    "preds = list(map(discretizer, preds))\n",
    "    \n",
    "precision = precision_score(y_true=y_test, y_pred=preds)\n",
    "recall = recall_score(y_true=y_test, y_pred=preds)\n",
    "fscore = f1_score(y_true=y_test, y_pred=preds)\n",
    "\n",
    "print('Recall - Test Data: {:2.3%}'.format(recall))\n",
    "print('Precision - Test Data: {:2.3%}'.format(precision))\n",
    "print('F-Score  - Test Data: {:2.3%}'.format(fscore))\n",
    "\n",
    "print(ensemb_model.coef_)"
   ]
  },
  {
   "cell_type": "markdown",
   "metadata": {},
   "source": [
    "# Test with Other Model Types"
   ]
  },
  {
   "cell_type": "markdown",
   "metadata": {},
   "source": [
    "## XGBoost"
   ]
  },
  {
   "cell_type": "code",
   "execution_count": 11,
   "metadata": {},
   "outputs": [
    {
     "name": "stdout",
     "output_type": "stream",
     "text": [
      "Recall - Test Data: 55.000%\n",
      "Precision - Test Data: 15.942%\n",
      "F-Score - Test Data: 24.719%\n",
      "[0.3989541  0.21247967 0.19149093 0.19707526]\n"
     ]
    }
   ],
   "source": [
    "from xgboost import XGBClassifier\n",
    "\n",
    "xgb = XGBClassifier(seed=42).fit(X_train, y_train)\n",
    "\n",
    "preds = xgb.predict_proba(X_test)[:,1]\n",
    "preds = list(map(discretizer, preds))\n",
    "\n",
    "precision = precision_score(y_true=y_test, y_pred=preds)\n",
    "recall = recall_score(y_true=y_test, y_pred=preds)\n",
    "fscore = f1_score(y_true=y_test, y_pred=preds)\n",
    "\n",
    "print('Recall - Test Data: {:2.3%}'.format(recall))\n",
    "print('Precision - Test Data: {:2.3%}'.format(precision))\n",
    "print('F-Score - Test Data: {:2.3%}'.format(fscore))\n",
    "\n",
    "print(xgb.feature_importances_)"
   ]
  },
  {
   "cell_type": "markdown",
   "metadata": {},
   "source": [
    "## Extra Trees Classifier"
   ]
  },
  {
   "cell_type": "code",
   "execution_count": 12,
   "metadata": {},
   "outputs": [
    {
     "name": "stdout",
     "output_type": "stream",
     "text": [
      "Recall - Test Data 30.000%\n",
      "Precision - Test Data: 10.909%\n",
      "F-Score - Test Data: 16.000%\n",
      "[0.29441487 0.2049435  0.27618138 0.22446025]\n"
     ]
    }
   ],
   "source": [
    "from sklearn.ensemble import ExtraTreesClassifier\n",
    "\n",
    "et = ExtraTreesClassifier(random_state=42).fit(X_train, y_train)\n",
    "\n",
    "preds = et.predict_proba(X_test)[:,1]\n",
    "preds = list(map(discretizer, preds))\n",
    "\n",
    "precision = precision_score(y_true=y_test, y_pred=preds)\n",
    "recall = recall_score(y_true=y_test, y_pred=preds)\n",
    "fscore = f1_score(y_true=y_test, y_pred=preds)\n",
    "\n",
    "print('Recall - Test Data {:2.3%}'.format(recall))\n",
    "print('Precision - Test Data: {:2.3%}'.format(precision))\n",
    "print('F-Score - Test Data: {:2.3%}'.format(fscore))\n",
    "\n",
    "print(et.feature_importances_)"
   ]
  }
 ],
 "metadata": {
  "kernelspec": {
   "display_name": "Python 3",
   "language": "python",
   "name": "python3"
  },
  "language_info": {
   "codemirror_mode": {
    "name": "ipython",
    "version": 3
   },
   "file_extension": ".py",
   "mimetype": "text/x-python",
   "name": "python",
   "nbconvert_exporter": "python",
   "pygments_lexer": "ipython3",
   "version": "3.7.3"
  }
 },
 "nbformat": 4,
 "nbformat_minor": 2
}
