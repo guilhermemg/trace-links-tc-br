{
 "cells": [
  {
   "cell_type": "markdown",
   "metadata": {},
   "source": [
    "# Introduction\n",
    "\n",
    "In this notebook we demonstrate the use of **Word Embeddings (Word2Vec)** weighting technique into Information Retrieval to make trace link recovery between Test Cases and Bug Reports.\n",
    "\n",
    "We model our study as follows:\n",
    "\n",
    "* Each bug report title, summary and description compose a single query.\n",
    "* We use each test case content as an entire document that must be returned to the query made"
   ]
  },
  {
   "cell_type": "markdown",
   "metadata": {},
   "source": [
    "# Import Libraries"
   ]
  },
  {
   "cell_type": "code",
   "execution_count": 1,
   "metadata": {},
   "outputs": [],
   "source": [
    "from mod_finder_util import mod_finder_util\n",
    "mod_finder_util.add_modules_origin_search_path()\n",
    "\n",
    "import pandas as pd\n",
    "\n",
    "from modules.models_runner.tc_br_models_runner import TC_BR_Runner\n",
    "from modules.models_runner.tc_br_models_runner import TC_BR_Models_Hyperp\n",
    "from modules.utils import aux_functions\n",
    "from modules.utils import firefox_dataset_p2 as fd\n",
    "from modules.utils import tokenizers as tok\n",
    "\n",
    "from modules.models.wordvec import WordVec_BasedModel\n",
    "\n",
    "from IPython.display import display\n",
    "\n",
    "import warnings; warnings.simplefilter('ignore')"
   ]
  },
  {
   "cell_type": "markdown",
   "metadata": {},
   "source": [
    "# Load Datasets"
   ]
  },
  {
   "cell_type": "code",
   "execution_count": 2,
   "metadata": {},
   "outputs": [
    {
     "name": "stdout",
     "output_type": "stream",
     "text": [
      "OracleExpert.shape: (195, 91)\n"
     ]
    }
   ],
   "source": [
    "tcs = [x for x in range(37,59)]\n",
    "orc = fd.Tc_BR_Oracles.read_oracle_expert_df()\n",
    "orc_subset = orc[orc.index.isin(tcs)]\n",
    "#aux_functions.highlight_df(orc_subset)"
   ]
  },
  {
   "cell_type": "code",
   "execution_count": 3,
   "metadata": {},
   "outputs": [
    {
     "name": "stdout",
     "output_type": "stream",
     "text": [
      "TestCases.shape: (195, 12)\n",
      "SelectedBugReports.shape: (91, 18)\n",
      "tc.shape: (3, 12)\n",
      "br.shape: (1, 18)\n"
     ]
    }
   ],
   "source": [
    "tcs = [13,37,60]\n",
    "brs = [1267501]\n",
    "\n",
    "testcases = fd.Datasets.read_testcases_df()\n",
    "testcases = testcases[testcases.TC_Number.isin(tcs)]\n",
    "bugreports = fd.Datasets.read_selected_bugreports_df()\n",
    "bugreports = bugreports[bugreports.Bug_Number.isin(brs)]\n",
    "\n",
    "print('tc.shape: {}'.format(testcases.shape))\n",
    "print('br.shape: {}'.format(bugreports.shape))"
   ]
  },
  {
   "cell_type": "markdown",
   "metadata": {},
   "source": [
    "# Running WordVector Model"
   ]
  },
  {
   "cell_type": "code",
   "execution_count": 4,
   "metadata": {},
   "outputs": [],
   "source": [
    "corpus = testcases.tc_desc\n",
    "query = bugreports.br_desc\n",
    "test_cases_names = testcases.tc_name\n",
    "bug_reports_names = bugreports.br_name\n",
    "\n",
    "wv_hyperp = TC_BR_Models_Hyperp.get_w2v_model_hyperp()\n",
    "wv_model = WordVec_BasedModel(**wv_hyperp)\n",
    "wv_model.set_name('WV_Model_TC_BR')\n",
    "wv_model.recover_links(corpus, query, test_cases_names, bug_reports_names)"
   ]
  },
  {
   "cell_type": "code",
   "execution_count": 5,
   "metadata": {},
   "outputs": [
    {
     "data": {
      "text/plain": [
       "(3, 1)"
      ]
     },
     "execution_count": 5,
     "metadata": {},
     "output_type": "execute_result"
    }
   ],
   "source": [
    "wv_model.get_sim_matrix().shape"
   ]
  },
  {
   "cell_type": "code",
   "execution_count": 6,
   "metadata": {},
   "outputs": [
    {
     "data": {
      "text/html": [
       "<style  type=\"text/css\" >\n",
       "    #T_3bda803c_7c93_11e9_9fee_8d8a1e3f2ff2row0_col0 {\n",
       "            background-color:  #e5ffe5;\n",
       "            color:  #000000;\n",
       "        }    #T_3bda803c_7c93_11e9_9fee_8d8a1e3f2ff2row1_col0 {\n",
       "            background-color:  #008000;\n",
       "            color:  #f1f1f1;\n",
       "        }    #T_3bda803c_7c93_11e9_9fee_8d8a1e3f2ff2row2_col0 {\n",
       "            background-color:  #41a441;\n",
       "            color:  #000000;\n",
       "        }</style><table id=\"T_3bda803c_7c93_11e9_9fee_8d8a1e3f2ff2\" ><thead>    <tr>        <th class=\"index_name level0\" >br_name</th>        <th class=\"col_heading level0 col0\" >BR_1267501_SRC</th>    </tr>    <tr>        <th class=\"index_name level0\" >tc_name</th>        <th class=\"blank\" ></th>    </tr></thead><tbody>\n",
       "                <tr>\n",
       "                        <th id=\"T_3bda803c_7c93_11e9_9fee_8d8a1e3f2ff2level0_row0\" class=\"row_heading level0 row0\" >TC_13_TRG</th>\n",
       "                        <td id=\"T_3bda803c_7c93_11e9_9fee_8d8a1e3f2ff2row0_col0\" class=\"data row0 col0\" >0.886369</td>\n",
       "            </tr>\n",
       "            <tr>\n",
       "                        <th id=\"T_3bda803c_7c93_11e9_9fee_8d8a1e3f2ff2level0_row1\" class=\"row_heading level0 row1\" >TC_37_TRG</th>\n",
       "                        <td id=\"T_3bda803c_7c93_11e9_9fee_8d8a1e3f2ff2row1_col0\" class=\"data row1 col0\" >0.940672</td>\n",
       "            </tr>\n",
       "            <tr>\n",
       "                        <th id=\"T_3bda803c_7c93_11e9_9fee_8d8a1e3f2ff2level0_row2\" class=\"row_heading level0 row2\" >TC_60_TRG</th>\n",
       "                        <td id=\"T_3bda803c_7c93_11e9_9fee_8d8a1e3f2ff2row2_col0\" class=\"data row2 col0\" >0.925198</td>\n",
       "            </tr>\n",
       "    </tbody></table>"
      ],
      "text/plain": [
       "<pandas.io.formats.style.Styler at 0x7f68d22b30b8>"
      ]
     },
     "execution_count": 6,
     "metadata": {},
     "output_type": "execute_result"
    }
   ],
   "source": [
    "sim_matrix = wv_model.get_sim_matrix()\n",
    "aux_functions.highlight_df(sim_matrix)"
   ]
  },
  {
   "cell_type": "code",
   "execution_count": 59,
   "metadata": {},
   "outputs": [
    {
     "name": "stdout",
     "output_type": "stream",
     "text": [
      "(3, 300)\n"
     ]
    },
    {
     "data": {
      "text/html": [
       "<div>\n",
       "<style scoped>\n",
       "    .dataframe tbody tr th:only-of-type {\n",
       "        vertical-align: middle;\n",
       "    }\n",
       "\n",
       "    .dataframe tbody tr th {\n",
       "        vertical-align: top;\n",
       "    }\n",
       "\n",
       "    .dataframe thead th {\n",
       "        text-align: right;\n",
       "    }\n",
       "</style>\n",
       "<table border=\"1\" class=\"dataframe\">\n",
       "  <thead>\n",
       "    <tr style=\"text-align: right;\">\n",
       "      <th></th>\n",
       "      <th>0</th>\n",
       "      <th>1</th>\n",
       "      <th>2</th>\n",
       "      <th>3</th>\n",
       "    </tr>\n",
       "    <tr>\n",
       "      <th>tc_name</th>\n",
       "      <th></th>\n",
       "      <th></th>\n",
       "      <th></th>\n",
       "      <th></th>\n",
       "    </tr>\n",
       "  </thead>\n",
       "  <tbody>\n",
       "    <tr>\n",
       "      <th>TC_13_TRG</th>\n",
       "      <td>-0.022611</td>\n",
       "      <td>0.099271</td>\n",
       "      <td>-0.052506</td>\n",
       "      <td>-0.049523</td>\n",
       "    </tr>\n",
       "    <tr>\n",
       "      <th>TC_37_TRG</th>\n",
       "      <td>0.017220</td>\n",
       "      <td>0.163365</td>\n",
       "      <td>-0.108600</td>\n",
       "      <td>-0.033845</td>\n",
       "    </tr>\n",
       "    <tr>\n",
       "      <th>TC_60_TRG</th>\n",
       "      <td>0.114570</td>\n",
       "      <td>0.078011</td>\n",
       "      <td>-0.107812</td>\n",
       "      <td>-0.047740</td>\n",
       "    </tr>\n",
       "  </tbody>\n",
       "</table>\n",
       "</div>"
      ],
      "text/plain": [
       "                  0         1         2         3\n",
       "tc_name                                          \n",
       "TC_13_TRG -0.022611  0.099271 -0.052506 -0.049523\n",
       "TC_37_TRG  0.017220  0.163365 -0.108600 -0.033845\n",
       "TC_60_TRG  0.114570  0.078011 -0.107812 -0.047740"
      ]
     },
     "execution_count": 59,
     "metadata": {},
     "output_type": "execute_result"
    }
   ],
   "source": [
    "df_tcs = pd.DataFrame([tc.vector for tc in wv_model.tc_docs])\n",
    "df_tcs.index = test_cases_names\n",
    "print(df_tcs.shape)\n",
    "df_tcs.iloc[0:5,0:4]"
   ]
  },
  {
   "cell_type": "code",
   "execution_count": 58,
   "metadata": {},
   "outputs": [
    {
     "name": "stdout",
     "output_type": "stream",
     "text": [
      "(1, 300)\n"
     ]
    },
    {
     "data": {
      "text/html": [
       "<div>\n",
       "<style scoped>\n",
       "    .dataframe tbody tr th:only-of-type {\n",
       "        vertical-align: middle;\n",
       "    }\n",
       "\n",
       "    .dataframe tbody tr th {\n",
       "        vertical-align: top;\n",
       "    }\n",
       "\n",
       "    .dataframe thead th {\n",
       "        text-align: right;\n",
       "    }\n",
       "</style>\n",
       "<table border=\"1\" class=\"dataframe\">\n",
       "  <thead>\n",
       "    <tr style=\"text-align: right;\">\n",
       "      <th></th>\n",
       "      <th>0</th>\n",
       "      <th>1</th>\n",
       "      <th>2</th>\n",
       "      <th>3</th>\n",
       "    </tr>\n",
       "    <tr>\n",
       "      <th>br_name</th>\n",
       "      <th></th>\n",
       "      <th></th>\n",
       "      <th></th>\n",
       "      <th></th>\n",
       "    </tr>\n",
       "  </thead>\n",
       "  <tbody>\n",
       "    <tr>\n",
       "      <th>BR_1267501_SRC</th>\n",
       "      <td>0.066742</td>\n",
       "      <td>0.120455</td>\n",
       "      <td>-0.156679</td>\n",
       "      <td>0.029707</td>\n",
       "    </tr>\n",
       "  </tbody>\n",
       "</table>\n",
       "</div>"
      ],
      "text/plain": [
       "                       0         1         2         3\n",
       "br_name                                               \n",
       "BR_1267501_SRC  0.066742  0.120455 -0.156679  0.029707"
      ]
     },
     "execution_count": 58,
     "metadata": {},
     "output_type": "execute_result"
    }
   ],
   "source": [
    "df_brs = pd.DataFrame([wv_model.br_docs[0].vector])\n",
    "df_brs.index = bug_reports_names\n",
    "print(df_brs.shape)\n",
    "df_brs.iloc[0:5,0:4]"
   ]
  },
  {
   "cell_type": "markdown",
   "metadata": {},
   "source": [
    "Word Vector Pseudo-Example"
   ]
  },
  {
   "cell_type": "code",
   "execution_count": 66,
   "metadata": {},
   "outputs": [
    {
     "data": {
      "text/html": [
       "<div>\n",
       "<style scoped>\n",
       "    .dataframe tbody tr th:only-of-type {\n",
       "        vertical-align: middle;\n",
       "    }\n",
       "\n",
       "    .dataframe tbody tr th {\n",
       "        vertical-align: top;\n",
       "    }\n",
       "\n",
       "    .dataframe thead th {\n",
       "        text-align: right;\n",
       "    }\n",
       "</style>\n",
       "<table border=\"1\" class=\"dataframe\">\n",
       "  <thead>\n",
       "    <tr style=\"text-align: right;\">\n",
       "      <th></th>\n",
       "      <th>0</th>\n",
       "      <th>1</th>\n",
       "      <th>2</th>\n",
       "      <th>3</th>\n",
       "    </tr>\n",
       "  </thead>\n",
       "  <tbody>\n",
       "    <tr>\n",
       "      <th>Try</th>\n",
       "      <td>-0.001388</td>\n",
       "      <td>0.031293</td>\n",
       "      <td>-0.524790</td>\n",
       "      <td>0.017237</td>\n",
       "    </tr>\n",
       "    <tr>\n",
       "      <th>to</th>\n",
       "      <td>0.319240</td>\n",
       "      <td>0.063160</td>\n",
       "      <td>-0.278580</td>\n",
       "      <td>0.261200</td>\n",
       "    </tr>\n",
       "    <tr>\n",
       "      <th>scroll</th>\n",
       "      <td>0.228140</td>\n",
       "      <td>-0.350200</td>\n",
       "      <td>-0.005245</td>\n",
       "      <td>0.137630</td>\n",
       "    </tr>\n",
       "    <tr>\n",
       "      <th>around</th>\n",
       "      <td>0.127130</td>\n",
       "      <td>0.087776</td>\n",
       "      <td>-0.174660</td>\n",
       "      <td>-0.006293</td>\n",
       "    </tr>\n",
       "    <tr>\n",
       "      <th>horizontally</th>\n",
       "      <td>0.545290</td>\n",
       "      <td>-0.446980</td>\n",
       "      <td>-0.167700</td>\n",
       "      <td>0.220940</td>\n",
       "    </tr>\n",
       "  </tbody>\n",
       "</table>\n",
       "</div>"
      ],
      "text/plain": [
       "                     0         1         2         3\n",
       "Try          -0.001388  0.031293 -0.524790  0.017237\n",
       "to            0.319240  0.063160 -0.278580  0.261200\n",
       "scroll        0.228140 -0.350200 -0.005245  0.137630\n",
       "around        0.127130  0.087776 -0.174660 -0.006293\n",
       "horizontally  0.545290 -0.446980 -0.167700  0.220940"
      ]
     },
     "execution_count": 66,
     "metadata": {},
     "output_type": "execute_result"
    }
   ],
   "source": [
    "br_doc = wv_model.br_docs[0]\n",
    "br_tokens = [token for token in br_doc]\n",
    "\n",
    "df_w_emb = pd.DataFrame([br_doc[i].vector for i in range(len(br_doc))])\n",
    "df_w_emb.index = br_tokens\n",
    "df_w_emb.iloc[71:76,0:4]"
   ]
  },
  {
   "cell_type": "markdown",
   "metadata": {},
   "source": [
    "Bug Report"
   ]
  },
  {
   "cell_type": "code",
   "execution_count": 54,
   "metadata": {},
   "outputs": [
    {
     "data": {
      "text/html": [
       "<div>\n",
       "<style scoped>\n",
       "    .dataframe tbody tr th:only-of-type {\n",
       "        vertical-align: middle;\n",
       "    }\n",
       "\n",
       "    .dataframe tbody tr th {\n",
       "        vertical-align: top;\n",
       "    }\n",
       "\n",
       "    .dataframe thead th {\n",
       "        text-align: right;\n",
       "    }\n",
       "</style>\n",
       "<table border=\"1\" class=\"dataframe\">\n",
       "  <thead>\n",
       "    <tr style=\"text-align: right;\">\n",
       "      <th></th>\n",
       "      <th>0</th>\n",
       "      <th>1</th>\n",
       "      <th>2</th>\n",
       "      <th>3</th>\n",
       "    </tr>\n",
       "  </thead>\n",
       "  <tbody>\n",
       "    <tr>\n",
       "      <th>window</th>\n",
       "      <td>0.687580</td>\n",
       "      <td>-0.345310</td>\n",
       "      <td>-0.18579</td>\n",
       "      <td>0.23870</td>\n",
       "    </tr>\n",
       "    <tr>\n",
       "      <th>sizes</th>\n",
       "      <td>0.182300</td>\n",
       "      <td>0.890110</td>\n",
       "      <td>-0.20703</td>\n",
       "      <td>-0.40545</td>\n",
       "    </tr>\n",
       "    <tr>\n",
       "      <th>Unspecified</th>\n",
       "      <td>0.091072</td>\n",
       "      <td>-0.006971</td>\n",
       "      <td>-0.19308</td>\n",
       "      <td>0.48667</td>\n",
       "    </tr>\n",
       "  </tbody>\n",
       "</table>\n",
       "</div>"
      ],
      "text/plain": [
       "                    0         1        2        3\n",
       "window       0.687580 -0.345310 -0.18579  0.23870\n",
       "sizes        0.182300  0.890110 -0.20703 -0.40545\n",
       "Unspecified  0.091072 -0.006971 -0.19308  0.48667"
      ]
     },
     "execution_count": 54,
     "metadata": {},
     "output_type": "execute_result"
    }
   ],
   "source": [
    "br_doc = wv_model.br_docs[0]\n",
    "br_tokens = [token for token in br_doc]\n",
    "\n",
    "df_w_emb = pd.DataFrame([br_doc[i].vector for i in range(len(br_doc))])\n",
    "df_w_emb.index = br_tokens\n",
    "df_w_emb.iloc[24:27,0:4]"
   ]
  },
  {
   "cell_type": "markdown",
   "metadata": {},
   "source": [
    "Test Case 13"
   ]
  },
  {
   "cell_type": "code",
   "execution_count": 55,
   "metadata": {},
   "outputs": [
    {
     "data": {
      "text/html": [
       "<div>\n",
       "<style scoped>\n",
       "    .dataframe tbody tr th:only-of-type {\n",
       "        vertical-align: middle;\n",
       "    }\n",
       "\n",
       "    .dataframe tbody tr th {\n",
       "        vertical-align: top;\n",
       "    }\n",
       "\n",
       "    .dataframe thead th {\n",
       "        text-align: right;\n",
       "    }\n",
       "</style>\n",
       "<table border=\"1\" class=\"dataframe\">\n",
       "  <thead>\n",
       "    <tr style=\"text-align: right;\">\n",
       "      <th></th>\n",
       "      <th>0</th>\n",
       "      <th>1</th>\n",
       "      <th>2</th>\n",
       "      <th>3</th>\n",
       "    </tr>\n",
       "  </thead>\n",
       "  <tbody>\n",
       "    <tr>\n",
       "      <th>Firefox</th>\n",
       "      <td>0.245720</td>\n",
       "      <td>-0.300720</td>\n",
       "      <td>0.40298</td>\n",
       "      <td>-0.124060</td>\n",
       "    </tr>\n",
       "    <tr>\n",
       "      <th>launches</th>\n",
       "      <td>-0.147420</td>\n",
       "      <td>0.095634</td>\n",
       "      <td>0.15905</td>\n",
       "      <td>0.039806</td>\n",
       "    </tr>\n",
       "    <tr>\n",
       "      <th>without</th>\n",
       "      <td>0.009888</td>\n",
       "      <td>0.027157</td>\n",
       "      <td>-0.32870</td>\n",
       "      <td>-0.031992</td>\n",
       "    </tr>\n",
       "  </tbody>\n",
       "</table>\n",
       "</div>"
      ],
      "text/plain": [
       "                 0         1        2         3\n",
       "Firefox   0.245720 -0.300720  0.40298 -0.124060\n",
       "launches -0.147420  0.095634  0.15905  0.039806\n",
       "without   0.009888  0.027157 -0.32870 -0.031992"
      ]
     },
     "execution_count": 55,
     "metadata": {},
     "output_type": "execute_result"
    }
   ],
   "source": [
    "tc_doc = wv_model.tc_docs[0]\n",
    "tc_tokens = [token for token in tc_doc]\n",
    "\n",
    "df_w_emb = pd.DataFrame([tc_doc[i].vector for i in range(len(tc_doc))])\n",
    "df_w_emb.index = tc_tokens\n",
    "df_w_emb.iloc[30:33,0:4]"
   ]
  },
  {
   "cell_type": "markdown",
   "metadata": {},
   "source": [
    "Test Case 37"
   ]
  },
  {
   "cell_type": "code",
   "execution_count": 56,
   "metadata": {},
   "outputs": [
    {
     "data": {
      "text/html": [
       "<div>\n",
       "<style scoped>\n",
       "    .dataframe tbody tr th:only-of-type {\n",
       "        vertical-align: middle;\n",
       "    }\n",
       "\n",
       "    .dataframe tbody tr th {\n",
       "        vertical-align: top;\n",
       "    }\n",
       "\n",
       "    .dataframe thead th {\n",
       "        text-align: right;\n",
       "    }\n",
       "</style>\n",
       "<table border=\"1\" class=\"dataframe\">\n",
       "  <thead>\n",
       "    <tr style=\"text-align: right;\">\n",
       "      <th></th>\n",
       "      <th>0</th>\n",
       "      <th>1</th>\n",
       "      <th>2</th>\n",
       "      <th>3</th>\n",
       "    </tr>\n",
       "  </thead>\n",
       "  <tbody>\n",
       "    <tr>\n",
       "      <th>is</th>\n",
       "      <td>-0.084961</td>\n",
       "      <td>0.50200</td>\n",
       "      <td>0.002382</td>\n",
       "      <td>-0.167550</td>\n",
       "    </tr>\n",
       "    <tr>\n",
       "      <th>true</th>\n",
       "      <td>0.096561</td>\n",
       "      <td>0.50832</td>\n",
       "      <td>-0.280250</td>\n",
       "      <td>-0.228730</td>\n",
       "    </tr>\n",
       "    <tr>\n",
       "      <th>in</th>\n",
       "      <td>0.089187</td>\n",
       "      <td>0.25792</td>\n",
       "      <td>0.262820</td>\n",
       "      <td>-0.029365</td>\n",
       "    </tr>\n",
       "  </tbody>\n",
       "</table>\n",
       "</div>"
      ],
      "text/plain": [
       "             0        1         2         3\n",
       "is   -0.084961  0.50200  0.002382 -0.167550\n",
       "true  0.096561  0.50832 -0.280250 -0.228730\n",
       "in    0.089187  0.25792  0.262820 -0.029365"
      ]
     },
     "execution_count": 56,
     "metadata": {},
     "output_type": "execute_result"
    }
   ],
   "source": [
    "tc_doc = wv_model.tc_docs[1]\n",
    "tc_tokens = [token for token in tc_doc]\n",
    "\n",
    "df_w_emb = pd.DataFrame([tc_doc[i].vector for i in range(len(tc_doc))])\n",
    "df_w_emb.index = tc_tokens\n",
    "df_w_emb.iloc[35:38,0:4]"
   ]
  },
  {
   "cell_type": "markdown",
   "metadata": {},
   "source": [
    "Test Case 60"
   ]
  },
  {
   "cell_type": "code",
   "execution_count": 57,
   "metadata": {},
   "outputs": [
    {
     "data": {
      "text/html": [
       "<div>\n",
       "<style scoped>\n",
       "    .dataframe tbody tr th:only-of-type {\n",
       "        vertical-align: middle;\n",
       "    }\n",
       "\n",
       "    .dataframe tbody tr th {\n",
       "        vertical-align: top;\n",
       "    }\n",
       "\n",
       "    .dataframe thead th {\n",
       "        text-align: right;\n",
       "    }\n",
       "</style>\n",
       "<table border=\"1\" class=\"dataframe\">\n",
       "  <thead>\n",
       "    <tr style=\"text-align: right;\">\n",
       "      <th></th>\n",
       "      <th>0</th>\n",
       "      <th>1</th>\n",
       "      <th>2</th>\n",
       "      <th>3</th>\n",
       "    </tr>\n",
       "  </thead>\n",
       "  <tbody>\n",
       "    <tr>\n",
       "      <th>each</th>\n",
       "      <td>-0.17246</td>\n",
       "      <td>0.054016</td>\n",
       "      <td>0.034461</td>\n",
       "      <td>0.19666</td>\n",
       "    </tr>\n",
       "    <tr>\n",
       "      <th>theme</th>\n",
       "      <td>0.46639</td>\n",
       "      <td>0.207400</td>\n",
       "      <td>0.185730</td>\n",
       "      <td>-0.40191</td>\n",
       "    </tr>\n",
       "    <tr>\n",
       "      <th>installation</th>\n",
       "      <td>0.49132</td>\n",
       "      <td>-0.048056</td>\n",
       "      <td>0.200700</td>\n",
       "      <td>-0.21108</td>\n",
       "    </tr>\n",
       "  </tbody>\n",
       "</table>\n",
       "</div>"
      ],
      "text/plain": [
       "                    0         1         2        3\n",
       "each         -0.17246  0.054016  0.034461  0.19666\n",
       "theme         0.46639  0.207400  0.185730 -0.40191\n",
       "installation  0.49132 -0.048056  0.200700 -0.21108"
      ]
     },
     "execution_count": 57,
     "metadata": {},
     "output_type": "execute_result"
    }
   ],
   "source": [
    "tc_doc = wv_model.tc_docs[2]\n",
    "tc_tokens = [token for token in tc_doc]\n",
    "\n",
    "df_w_emb = pd.DataFrame([tc_doc[i].vector for i in range(len(tc_doc))])\n",
    "df_w_emb.index = tc_tokens\n",
    "df_w_emb.iloc[30:33,0:4]"
   ]
  }
 ],
 "metadata": {
  "kernelspec": {
   "display_name": "Python 3",
   "language": "python",
   "name": "python3"
  },
  "language_info": {
   "codemirror_mode": {
    "name": "ipython",
    "version": 3
   },
   "file_extension": ".py",
   "mimetype": "text/x-python",
   "name": "python",
   "nbconvert_exporter": "python",
   "pygments_lexer": "ipython3",
   "version": "3.7.3"
  }
 },
 "nbformat": 4,
 "nbformat_minor": 2
}
