{
 "cells": [
  {
   "cell_type": "markdown",
   "metadata": {},
   "source": [
    "# Introduction\n",
    "\n",
    "Notebook to test a **boosting** model in the context of traceability between test cases and bug reports."
   ]
  },
  {
   "cell_type": "markdown",
   "metadata": {},
   "source": [
    "# Load Libraries and Datasets"
   ]
  },
  {
   "cell_type": "code",
   "execution_count": 1,
   "metadata": {},
   "outputs": [],
   "source": [
    "from mod_finder_util import mod_finder_util\n",
    "mod_finder_util.add_modules_origin_search_path()\n",
    "\n",
    "import pandas as pd\n",
    "import numpy as np\n",
    "\n",
    "from modules.models_runner.tc_br_models_runner import TC_BR_Runner\n",
    "from modules.utils import firefox_dataset_p2 as fd\n",
    "from modules.utils import aux_functions\n",
    "from modules.utils import model_evaluator as m_eval\n",
    "from modules.utils import similarity_measures as sm\n",
    "\n",
    "from sklearn.model_selection import train_test_split\n",
    "from sklearn.metrics import recall_score, precision_score, f1_score\n",
    "from sklearn.linear_model import LogisticRegressionCV\n",
    "\n",
    "from imblearn.over_sampling import SMOTE, ADASYN\n",
    "\n",
    "from enum import Enum\n",
    "from collections import Counter\n",
    "\n",
    "import warnings; warnings.simplefilter('ignore')"
   ]
  },
  {
   "cell_type": "markdown",
   "metadata": {},
   "source": [
    "# Run All Models"
   ]
  },
  {
   "cell_type": "markdown",
   "metadata": {},
   "source": [
    "## Volunteers Only Strategy"
   ]
  },
  {
   "cell_type": "code",
   "execution_count": 2,
   "metadata": {},
   "outputs": [
    {
     "name": "stdout",
     "output_type": "stream",
     "text": [
      "TestCases.shape: (195, 12)\n",
      "SelectedBugReports.shape: (91, 18)\n",
      "Running LSI Model ------\n",
      "Running LDA Model -----\n",
      "Running BM25 Model -----\n",
      "Running W2V Model ------\n"
     ]
    }
   ],
   "source": [
    "models_runner_4 = TC_BR_Runner()\n",
    "lsi_model_4 = models_runner_4.run_lsi_model()\n",
    "lda_model_4 = models_runner_4.run_lda_model()\n",
    "bm25_model_4 = models_runner_4.run_bm25_model()\n",
    "w2v_model_4 = models_runner_4.run_word2vec_model()"
   ]
  },
  {
   "cell_type": "markdown",
   "metadata": {},
   "source": [
    "# Ensemble Model"
   ]
  },
  {
   "cell_type": "markdown",
   "metadata": {},
   "source": [
    "## Tranform Results Matrices to Vectors"
   ]
  },
  {
   "cell_type": "code",
   "execution_count": 3,
   "metadata": {},
   "outputs": [],
   "source": [
    "def transform_sim_matrix_to_sim_vec(sim_matrix_df, model_name):\n",
    "    sim_vec_df = pd.DataFrame(columns=[model_name])\n",
    "    for col in sim_matrix_df.columns:\n",
    "        for idx, row in sim_matrix_df.iterrows():\n",
    "            artfs_names = '{}_{}'.format(idx, col)\n",
    "            sim_vec_df.at[artfs_names, model_name] = row[col]\n",
    "    return sim_vec_df\n",
    "\n",
    "sim_vec_lsi = transform_sim_matrix_to_sim_vec(lsi_model_4.get_sim_matrix(), 'lsi')\n",
    "sim_vec_lda = transform_sim_matrix_to_sim_vec(lda_model_4.get_sim_matrix(), 'lda')\n",
    "sim_vec_bm25 = transform_sim_matrix_to_sim_vec(bm25_model_4.get_sim_matrix(), 'bm25')\n",
    "sim_vec_wv = transform_sim_matrix_to_sim_vec(w2v_model_4.get_sim_matrix(), 'wv')"
   ]
  },
  {
   "cell_type": "markdown",
   "metadata": {},
   "source": [
    "## Transform Vectors to DataFrame"
   ]
  },
  {
   "cell_type": "code",
   "execution_count": 4,
   "metadata": {},
   "outputs": [
    {
     "data": {
      "text/html": [
       "<div>\n",
       "<style scoped>\n",
       "    .dataframe tbody tr th:only-of-type {\n",
       "        vertical-align: middle;\n",
       "    }\n",
       "\n",
       "    .dataframe tbody tr th {\n",
       "        vertical-align: top;\n",
       "    }\n",
       "\n",
       "    .dataframe thead th {\n",
       "        text-align: right;\n",
       "    }\n",
       "</style>\n",
       "<table border=\"1\" class=\"dataframe\">\n",
       "  <thead>\n",
       "    <tr style=\"text-align: right;\">\n",
       "      <th></th>\n",
       "      <th>lsi</th>\n",
       "      <th>lda</th>\n",
       "      <th>bm25</th>\n",
       "      <th>wv</th>\n",
       "      <th>pred</th>\n",
       "    </tr>\n",
       "  </thead>\n",
       "  <tbody>\n",
       "    <tr>\n",
       "      <th>TC_13_TRG_BR_1248267_SRC</th>\n",
       "      <td>0.160448</td>\n",
       "      <td>0.126582</td>\n",
       "      <td>5.40608</td>\n",
       "      <td>0.914992</td>\n",
       "      <td>NaN</td>\n",
       "    </tr>\n",
       "    <tr>\n",
       "      <th>TC_14_TRG_BR_1248267_SRC</th>\n",
       "      <td>0.175316</td>\n",
       "      <td>0.317495</td>\n",
       "      <td>11.2707</td>\n",
       "      <td>0.947215</td>\n",
       "      <td>NaN</td>\n",
       "    </tr>\n",
       "    <tr>\n",
       "      <th>TC_15_TRG_BR_1248267_SRC</th>\n",
       "      <td>0.0816225</td>\n",
       "      <td>0.10915</td>\n",
       "      <td>3.63892</td>\n",
       "      <td>0.919391</td>\n",
       "      <td>NaN</td>\n",
       "    </tr>\n",
       "    <tr>\n",
       "      <th>TC_16_TRG_BR_1248267_SRC</th>\n",
       "      <td>0.168325</td>\n",
       "      <td>0.113487</td>\n",
       "      <td>25.3307</td>\n",
       "      <td>0.927666</td>\n",
       "      <td>NaN</td>\n",
       "    </tr>\n",
       "    <tr>\n",
       "      <th>TC_17_TRG_BR_1248267_SRC</th>\n",
       "      <td>0.195552</td>\n",
       "      <td>0.110505</td>\n",
       "      <td>21.3448</td>\n",
       "      <td>0.911958</td>\n",
       "      <td>NaN</td>\n",
       "    </tr>\n",
       "  </tbody>\n",
       "</table>\n",
       "</div>"
      ],
      "text/plain": [
       "                                lsi       lda     bm25        wv pred\n",
       "TC_13_TRG_BR_1248267_SRC   0.160448  0.126582  5.40608  0.914992  NaN\n",
       "TC_14_TRG_BR_1248267_SRC   0.175316  0.317495  11.2707  0.947215  NaN\n",
       "TC_15_TRG_BR_1248267_SRC  0.0816225   0.10915  3.63892  0.919391  NaN\n",
       "TC_16_TRG_BR_1248267_SRC   0.168325  0.113487  25.3307  0.927666  NaN\n",
       "TC_17_TRG_BR_1248267_SRC   0.195552  0.110505  21.3448  0.911958  NaN"
      ]
     },
     "execution_count": 4,
     "metadata": {},
     "output_type": "execute_result"
    }
   ],
   "source": [
    "ensemble_input_df = pd.DataFrame(columns=['pred'], index=sim_vec_lsi.index)\n",
    "\n",
    "out_df = pd.merge(ensemble_input_df, sim_vec_lsi, left_index=True, right_index=True)\n",
    "out_df = pd.merge(out_df, sim_vec_lda, left_index=True, right_index=True)\n",
    "out_df = pd.merge(out_df, sim_vec_bm25, left_index=True, right_index=True)\n",
    "out_df = pd.merge(out_df, sim_vec_wv, left_index=True, right_index=True)\n",
    "\n",
    "new_order = [1,2,3,4,0]\n",
    "out_df = out_df[out_df.columns[new_order]]\n",
    "\n",
    "ensemble_input_df = out_df.copy()\n",
    "ensemble_input_df.head()"
   ]
  },
  {
   "cell_type": "markdown",
   "metadata": {},
   "source": [
    "## Insert Oracle Data"
   ]
  },
  {
   "cell_type": "code",
   "execution_count": 5,
   "metadata": {},
   "outputs": [
    {
     "name": "stdout",
     "output_type": "stream",
     "text": [
      "OracleVolunteers.shape: (195, 91)\n"
     ]
    },
    {
     "data": {
      "text/html": [
       "<div>\n",
       "<style scoped>\n",
       "    .dataframe tbody tr th:only-of-type {\n",
       "        vertical-align: middle;\n",
       "    }\n",
       "\n",
       "    .dataframe tbody tr th {\n",
       "        vertical-align: top;\n",
       "    }\n",
       "\n",
       "    .dataframe thead th {\n",
       "        text-align: right;\n",
       "    }\n",
       "</style>\n",
       "<table border=\"1\" class=\"dataframe\">\n",
       "  <thead>\n",
       "    <tr style=\"text-align: right;\">\n",
       "      <th></th>\n",
       "      <th>lsi</th>\n",
       "      <th>lda</th>\n",
       "      <th>bm25</th>\n",
       "      <th>wv</th>\n",
       "      <th>oracle</th>\n",
       "      <th>pred</th>\n",
       "    </tr>\n",
       "  </thead>\n",
       "  <tbody>\n",
       "    <tr>\n",
       "      <th>TC_13_TRG_BR_1248267_SRC</th>\n",
       "      <td>0.160448</td>\n",
       "      <td>0.126582</td>\n",
       "      <td>5.40608</td>\n",
       "      <td>0.914992</td>\n",
       "      <td>0.0</td>\n",
       "      <td>NaN</td>\n",
       "    </tr>\n",
       "    <tr>\n",
       "      <th>TC_14_TRG_BR_1248267_SRC</th>\n",
       "      <td>0.175316</td>\n",
       "      <td>0.317495</td>\n",
       "      <td>11.2707</td>\n",
       "      <td>0.947215</td>\n",
       "      <td>0.0</td>\n",
       "      <td>NaN</td>\n",
       "    </tr>\n",
       "    <tr>\n",
       "      <th>TC_15_TRG_BR_1248267_SRC</th>\n",
       "      <td>0.0816225</td>\n",
       "      <td>0.10915</td>\n",
       "      <td>3.63892</td>\n",
       "      <td>0.919391</td>\n",
       "      <td>0.0</td>\n",
       "      <td>NaN</td>\n",
       "    </tr>\n",
       "    <tr>\n",
       "      <th>TC_16_TRG_BR_1248267_SRC</th>\n",
       "      <td>0.168325</td>\n",
       "      <td>0.113487</td>\n",
       "      <td>25.3307</td>\n",
       "      <td>0.927666</td>\n",
       "      <td>0.0</td>\n",
       "      <td>NaN</td>\n",
       "    </tr>\n",
       "    <tr>\n",
       "      <th>TC_17_TRG_BR_1248267_SRC</th>\n",
       "      <td>0.195552</td>\n",
       "      <td>0.110505</td>\n",
       "      <td>21.3448</td>\n",
       "      <td>0.911958</td>\n",
       "      <td>0.0</td>\n",
       "      <td>NaN</td>\n",
       "    </tr>\n",
       "    <tr>\n",
       "      <th>TC_18_TRG_BR_1248267_SRC</th>\n",
       "      <td>0.066099</td>\n",
       "      <td>0.107986</td>\n",
       "      <td>3.78247</td>\n",
       "      <td>0.902639</td>\n",
       "      <td>0.0</td>\n",
       "      <td>NaN</td>\n",
       "    </tr>\n",
       "    <tr>\n",
       "      <th>TC_19_TRG_BR_1248267_SRC</th>\n",
       "      <td>0.118581</td>\n",
       "      <td>0.127082</td>\n",
       "      <td>7.96864</td>\n",
       "      <td>0.919673</td>\n",
       "      <td>0.0</td>\n",
       "      <td>NaN</td>\n",
       "    </tr>\n",
       "    <tr>\n",
       "      <th>TC_20_TRG_BR_1248267_SRC</th>\n",
       "      <td>0.101477</td>\n",
       "      <td>0.105766</td>\n",
       "      <td>5.56926</td>\n",
       "      <td>0.918608</td>\n",
       "      <td>0.0</td>\n",
       "      <td>NaN</td>\n",
       "    </tr>\n",
       "    <tr>\n",
       "      <th>TC_21_TRG_BR_1248267_SRC</th>\n",
       "      <td>0.103599</td>\n",
       "      <td>0.103972</td>\n",
       "      <td>5.7166</td>\n",
       "      <td>0.922776</td>\n",
       "      <td>0.0</td>\n",
       "      <td>NaN</td>\n",
       "    </tr>\n",
       "    <tr>\n",
       "      <th>TC_22_TRG_BR_1248267_SRC</th>\n",
       "      <td>0.101755</td>\n",
       "      <td>0.186272</td>\n",
       "      <td>5.87195</td>\n",
       "      <td>0.921291</td>\n",
       "      <td>0.0</td>\n",
       "      <td>NaN</td>\n",
       "    </tr>\n",
       "    <tr>\n",
       "      <th>TC_23_TRG_BR_1248267_SRC</th>\n",
       "      <td>0.203867</td>\n",
       "      <td>0.294409</td>\n",
       "      <td>24.6766</td>\n",
       "      <td>0.936479</td>\n",
       "      <td>0.0</td>\n",
       "      <td>NaN</td>\n",
       "    </tr>\n",
       "    <tr>\n",
       "      <th>TC_24_TRG_BR_1248267_SRC</th>\n",
       "      <td>0.0896297</td>\n",
       "      <td>0.132994</td>\n",
       "      <td>14.3883</td>\n",
       "      <td>0.916769</td>\n",
       "      <td>0.0</td>\n",
       "      <td>NaN</td>\n",
       "    </tr>\n",
       "    <tr>\n",
       "      <th>TC_25_TRG_BR_1248267_SRC</th>\n",
       "      <td>0.195646</td>\n",
       "      <td>0.310281</td>\n",
       "      <td>13.194</td>\n",
       "      <td>0.919011</td>\n",
       "      <td>0.0</td>\n",
       "      <td>NaN</td>\n",
       "    </tr>\n",
       "    <tr>\n",
       "      <th>TC_26_TRG_BR_1248267_SRC</th>\n",
       "      <td>0.0974669</td>\n",
       "      <td>0.0491696</td>\n",
       "      <td>8.00906</td>\n",
       "      <td>0.924528</td>\n",
       "      <td>0.0</td>\n",
       "      <td>NaN</td>\n",
       "    </tr>\n",
       "    <tr>\n",
       "      <th>TC_27_TRG_BR_1248267_SRC</th>\n",
       "      <td>0.182433</td>\n",
       "      <td>0.0852223</td>\n",
       "      <td>9.07206</td>\n",
       "      <td>0.934843</td>\n",
       "      <td>0.0</td>\n",
       "      <td>NaN</td>\n",
       "    </tr>\n",
       "  </tbody>\n",
       "</table>\n",
       "</div>"
      ],
      "text/plain": [
       "                                lsi        lda     bm25        wv  oracle pred\n",
       "TC_13_TRG_BR_1248267_SRC   0.160448   0.126582  5.40608  0.914992     0.0  NaN\n",
       "TC_14_TRG_BR_1248267_SRC   0.175316   0.317495  11.2707  0.947215     0.0  NaN\n",
       "TC_15_TRG_BR_1248267_SRC  0.0816225    0.10915  3.63892  0.919391     0.0  NaN\n",
       "TC_16_TRG_BR_1248267_SRC   0.168325   0.113487  25.3307  0.927666     0.0  NaN\n",
       "TC_17_TRG_BR_1248267_SRC   0.195552   0.110505  21.3448  0.911958     0.0  NaN\n",
       "TC_18_TRG_BR_1248267_SRC   0.066099   0.107986  3.78247  0.902639     0.0  NaN\n",
       "TC_19_TRG_BR_1248267_SRC   0.118581   0.127082  7.96864  0.919673     0.0  NaN\n",
       "TC_20_TRG_BR_1248267_SRC   0.101477   0.105766  5.56926  0.918608     0.0  NaN\n",
       "TC_21_TRG_BR_1248267_SRC   0.103599   0.103972   5.7166  0.922776     0.0  NaN\n",
       "TC_22_TRG_BR_1248267_SRC   0.101755   0.186272  5.87195  0.921291     0.0  NaN\n",
       "TC_23_TRG_BR_1248267_SRC   0.203867   0.294409  24.6766  0.936479     0.0  NaN\n",
       "TC_24_TRG_BR_1248267_SRC  0.0896297   0.132994  14.3883  0.916769     0.0  NaN\n",
       "TC_25_TRG_BR_1248267_SRC   0.195646   0.310281   13.194  0.919011     0.0  NaN\n",
       "TC_26_TRG_BR_1248267_SRC  0.0974669  0.0491696  8.00906  0.924528     0.0  NaN\n",
       "TC_27_TRG_BR_1248267_SRC   0.182433  0.0852223  9.07206  0.934843     0.0  NaN"
      ]
     },
     "execution_count": 5,
     "metadata": {},
     "output_type": "execute_result"
    }
   ],
   "source": [
    "orc_vec_df = transform_sim_matrix_to_sim_vec(fd.Tc_BR_Oracles.read_oracle_volunteers_df(), 'oracle')\n",
    "\n",
    "ensemble_input_df = pd.merge(ensemble_input_df, orc_vec_df, left_index=True, right_index=True)\n",
    "\n",
    "new_order = [0,1,2,3,5,4]\n",
    "ensemble_input_df = ensemble_input_df[ensemble_input_df.columns[new_order]]\n",
    "\n",
    "ensemble_input_df.head(15)"
   ]
  },
  {
   "cell_type": "markdown",
   "metadata": {},
   "source": [
    "## Balancing Dataset and Split Data on Train and Test"
   ]
  },
  {
   "cell_type": "code",
   "execution_count": 6,
   "metadata": {},
   "outputs": [
    {
     "name": "stdout",
     "output_type": "stream",
     "text": [
      "(14196, 4) (14196,) (3549, 4) (3549,)\n",
      "Train SMOTE: [(0.0, 13247), (1.0, 13247)]\n"
     ]
    }
   ],
   "source": [
    "ensemble_input_df = ensemble_input_df.infer_objects()\n",
    "\n",
    "X = ensemble_input_df[['lsi','lda','bm25','wv']]\n",
    "y = ensemble_input_df['oracle']\n",
    "\n",
    "X_train, X_test, y_train, y_test = train_test_split(X, y, test_size=0.20, random_state=42, shuffle=True)\n",
    "print(X_train.shape, y_train.shape, X_test.shape, y_test.shape)\n",
    "\n",
    "X_train, y_train = SMOTE().fit_resample(X_train, y_train)\n",
    "print(\"Train SMOTE: {}\".format(sorted(Counter(y_train).items())))\n",
    "\n",
    "X_train = pd.DataFrame(X_train, columns=['lsi','lda','bm25','wv'])\n",
    "y_train = pd.DataFrame(y_train)"
   ]
  },
  {
   "cell_type": "markdown",
   "metadata": {},
   "source": [
    "## Discretizer Function"
   ]
  },
  {
   "cell_type": "code",
   "execution_count": 7,
   "metadata": {},
   "outputs": [],
   "source": [
    "def discretizer(x):\n",
    "    return 0 if x < 0.5 else 1"
   ]
  },
  {
   "cell_type": "markdown",
   "metadata": {},
   "source": [
    "## Logistic Regressor"
   ]
  },
  {
   "cell_type": "code",
   "execution_count": 8,
   "metadata": {},
   "outputs": [
    {
     "name": "stdout",
     "output_type": "stream",
     "text": [
      "Recall - Test Data: 59.375%\n",
      "Precision - Test Data: 16.540%\n",
      "F-Score  - Test Data: 25.872%\n",
      "[[ 1.99360827  1.12402267  0.01687037 -0.23420447]]\n"
     ]
    }
   ],
   "source": [
    "ensemb_model = LogisticRegressionCV(cv=3, scoring='recall').fit(X_train, y_train)\n",
    "\n",
    "preds = ensemb_model.predict_proba(X_test)[:,1]\n",
    "preds = list(map(discretizer, preds))\n",
    "    \n",
    "precision = precision_score(y_true=y_test, y_pred=preds)\n",
    "recall = recall_score(y_true=y_test, y_pred=preds)\n",
    "fscore = f1_score(y_true=y_test, y_pred=preds)\n",
    "\n",
    "print('Recall - Test Data: {:2.3%}'.format(recall))\n",
    "print('Precision - Test Data: {:2.3%}'.format(precision))\n",
    "print('F-Score  - Test Data: {:2.3%}'.format(fscore))\n",
    "\n",
    "print(ensemb_model.coef_)"
   ]
  },
  {
   "cell_type": "markdown",
   "metadata": {},
   "source": [
    "# Test with Other Model Types"
   ]
  },
  {
   "cell_type": "markdown",
   "metadata": {},
   "source": [
    "## XGBoost"
   ]
  },
  {
   "cell_type": "code",
   "execution_count": 9,
   "metadata": {},
   "outputs": [
    {
     "name": "stdout",
     "output_type": "stream",
     "text": [
      "Recall - Test Data: 58.984%\n",
      "Precision - Test Data: 21.821%\n",
      "F-Score - Test Data: 31.857%\n",
      "[0.6021871  0.16914523 0.110857   0.11781062]\n"
     ]
    }
   ],
   "source": [
    "from xgboost import XGBClassifier\n",
    "\n",
    "xgb = XGBClassifier(seed=42).fit(X_train, y_train)\n",
    "\n",
    "preds = xgb.predict_proba(X_test)[:,1]\n",
    "preds = list(map(discretizer, preds))\n",
    "\n",
    "precision = precision_score(y_true=y_test, y_pred=preds)\n",
    "recall = recall_score(y_true=y_test, y_pred=preds)\n",
    "fscore = f1_score(y_true=y_test, y_pred=preds)\n",
    "\n",
    "print('Recall - Test Data: {:2.3%}'.format(recall))\n",
    "print('Precision - Test Data: {:2.3%}'.format(precision))\n",
    "print('F-Score - Test Data: {:2.3%}'.format(fscore))\n",
    "\n",
    "print(xgb.feature_importances_)"
   ]
  },
  {
   "cell_type": "markdown",
   "metadata": {},
   "source": [
    "## Extra Trees Classifier"
   ]
  },
  {
   "cell_type": "code",
   "execution_count": 10,
   "metadata": {},
   "outputs": [
    {
     "name": "stdout",
     "output_type": "stream",
     "text": [
      "Recall - Test Data 58.594%\n",
      "Precision - Test Data: 22.222%\n",
      "F-Score - Test Data: 32.223%\n",
      "[0.30758181 0.25412486 0.25001155 0.18828178]\n"
     ]
    }
   ],
   "source": [
    "from sklearn.ensemble import ExtraTreesClassifier\n",
    "\n",
    "et = ExtraTreesClassifier(random_state=42).fit(X_train, y_train)\n",
    "\n",
    "preds = et.predict_proba(X_test)[:,1]\n",
    "preds = list(map(discretizer, preds))\n",
    "\n",
    "precision = precision_score(y_true=y_test, y_pred=preds)\n",
    "recall = recall_score(y_true=y_test, y_pred=preds)\n",
    "fscore = f1_score(y_true=y_test, y_pred=preds)\n",
    "\n",
    "print('Recall - Test Data {:2.3%}'.format(recall))\n",
    "print('Precision - Test Data: {:2.3%}'.format(precision))\n",
    "print('F-Score - Test Data: {:2.3%}'.format(fscore))\n",
    "\n",
    "print(et.feature_importances_)"
   ]
  }
 ],
 "metadata": {
  "kernelspec": {
   "display_name": "Python 3",
   "language": "python",
   "name": "python3"
  },
  "language_info": {
   "codemirror_mode": {
    "name": "ipython",
    "version": 3
   },
   "file_extension": ".py",
   "mimetype": "text/x-python",
   "name": "python",
   "nbconvert_exporter": "python",
   "pygments_lexer": "ipython3",
   "version": "3.7.3"
  }
 },
 "nbformat": 4,
 "nbformat_minor": 2
}
