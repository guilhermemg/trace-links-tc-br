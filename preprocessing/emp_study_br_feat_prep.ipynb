{
 "cells": [
  {
   "cell_type": "markdown",
   "metadata": {},
   "source": [
    "# Introduction\n",
    "\n",
    "**Select Subset of Bug Reports for Empirical Study**\n",
    "\n",
    "For the empirical study, made for the creation of the oracle matrix by volunteers, we make a selection of bug reports to filter the most relevant for our analysis and improve the power and improve our conclusions about the studied subject."
   ]
  },
  {
   "cell_type": "markdown",
   "metadata": {},
   "source": [
    "# Import Libraries"
   ]
  },
  {
   "cell_type": "code",
   "execution_count": 1,
   "metadata": {},
   "outputs": [],
   "source": [
    "from mod_finder_util import mod_finder_util\n",
    "mod_finder_util.add_modules_origin_search_path()\n",
    "\n",
    "import pandas as pd\n",
    "import seaborn as sns\n",
    "\n",
    "from IPython.display import display\n",
    "import matplotlib.pyplot as plt\n",
    "\n",
    "from modules.utils import aux_functions\n",
    "from modules.utils import firefox_dataset_p2 as fd\n",
    "\n",
    "%matplotlib inline"
   ]
  },
  {
   "cell_type": "markdown",
   "metadata": {},
   "source": [
    "# Load Datasets"
   ]
  },
  {
   "cell_type": "code",
   "execution_count": 2,
   "metadata": {},
   "outputs": [
    {
     "name": "stdout",
     "output_type": "stream",
     "text": [
      "OrigBugReports.shape: (35336, 18)\n",
      "OrigFeatures.shape: (21, 6)\n"
     ]
    }
   ],
   "source": [
    "bugreports_final = fd.read_orig_bugreports_df()\n",
    "features_df = fd.read_orig_features_df()"
   ]
  },
  {
   "cell_type": "markdown",
   "metadata": {},
   "source": [
    "# EDA - Bug Reports"
   ]
  },
  {
   "cell_type": "code",
   "execution_count": 3,
   "metadata": {},
   "outputs": [
    {
     "data": {
      "text/html": [
       "<div>\n",
       "<style scoped>\n",
       "    .dataframe tbody tr th:only-of-type {\n",
       "        vertical-align: middle;\n",
       "    }\n",
       "\n",
       "    .dataframe tbody tr th {\n",
       "        vertical-align: top;\n",
       "    }\n",
       "\n",
       "    .dataframe thead th {\n",
       "        text-align: right;\n",
       "    }\n",
       "</style>\n",
       "<table border=\"1\" class=\"dataframe\">\n",
       "  <thead>\n",
       "    <tr style=\"text-align: right;\">\n",
       "      <th></th>\n",
       "      <th>Bug_Number</th>\n",
       "      <th>Summary</th>\n",
       "      <th>Platform</th>\n",
       "      <th>Component</th>\n",
       "      <th>Version</th>\n",
       "      <th>Creation_Time</th>\n",
       "      <th>Whiteboard</th>\n",
       "      <th>QA_Whiteboard</th>\n",
       "      <th>First_Comment_Text</th>\n",
       "      <th>First_Comment_Creation_Time</th>\n",
       "      <th>Status</th>\n",
       "      <th>Product</th>\n",
       "      <th>Priority</th>\n",
       "      <th>Resolution</th>\n",
       "      <th>Severity</th>\n",
       "      <th>Is_Confirmed</th>\n",
       "      <th>br_name</th>\n",
       "      <th>br_desc</th>\n",
       "    </tr>\n",
       "  </thead>\n",
       "  <tbody>\n",
       "    <tr>\n",
       "      <th>0</th>\n",
       "      <td>506297</td>\n",
       "      <td>Livemarks with null site/feed uris cause sync ...</td>\n",
       "      <td>All</td>\n",
       "      <td>Sync</td>\n",
       "      <td>unspecified</td>\n",
       "      <td>2009-07-24T17:08:43Z</td>\n",
       "      <td>NaN</td>\n",
       "      <td>NaN</td>\n",
       "      <td>2009-07-24 09:54:28     FaultTolerance       D...</td>\n",
       "      <td>2009-07-24T17:08:43Z</td>\n",
       "      <td>RESOLVED</td>\n",
       "      <td>Firefox</td>\n",
       "      <td>--</td>\n",
       "      <td>FIXED</td>\n",
       "      <td>normal</td>\n",
       "      <td>True</td>\n",
       "      <td>BR_506297_SRC</td>\n",
       "      <td>506297 Livemarks with null site/feed uris caus...</td>\n",
       "    </tr>\n",
       "    <tr>\n",
       "      <th>1</th>\n",
       "      <td>506338</td>\n",
       "      <td>Enhance Crash Recovery to better help the user</td>\n",
       "      <td>All</td>\n",
       "      <td>Session Restore</td>\n",
       "      <td>Trunk</td>\n",
       "      <td>2009-07-24T19:17:21Z</td>\n",
       "      <td>[crashkill][crashkill-metrics]</td>\n",
       "      <td>NaN</td>\n",
       "      <td>When our users crash they are pretty much in t...</td>\n",
       "      <td>2009-07-24T19:17:21Z</td>\n",
       "      <td>NEW</td>\n",
       "      <td>Firefox</td>\n",
       "      <td>--</td>\n",
       "      <td>NaN</td>\n",
       "      <td>enhancement</td>\n",
       "      <td>True</td>\n",
       "      <td>BR_506338_SRC</td>\n",
       "      <td>506338 Enhance Crash Recovery to better help t...</td>\n",
       "    </tr>\n",
       "    <tr>\n",
       "      <th>2</th>\n",
       "      <td>506507</td>\n",
       "      <td>Dragging multiple bookmarks in the bookmarks s...</td>\n",
       "      <td>x86</td>\n",
       "      <td>Bookmarks &amp; History</td>\n",
       "      <td>Trunk</td>\n",
       "      <td>2009-07-26T06:16:02Z</td>\n",
       "      <td>NaN</td>\n",
       "      <td>NaN</td>\n",
       "      <td>User-Agent:       Mozilla/5.0 (Windows; U; Win...</td>\n",
       "      <td>2009-07-26T06:16:02Z</td>\n",
       "      <td>RESOLVED</td>\n",
       "      <td>Firefox</td>\n",
       "      <td>--</td>\n",
       "      <td>WORKSFORME</td>\n",
       "      <td>normal</td>\n",
       "      <td>True</td>\n",
       "      <td>BR_506507_SRC</td>\n",
       "      <td>506507 Dragging multiple bookmarks in the book...</td>\n",
       "    </tr>\n",
       "    <tr>\n",
       "      <th>3</th>\n",
       "      <td>506550</td>\n",
       "      <td>Unreliable Back Button navigating nytimes.com</td>\n",
       "      <td>x86</td>\n",
       "      <td>Extension Compatibility</td>\n",
       "      <td>3.5 Branch</td>\n",
       "      <td>2009-07-26T16:12:10Z</td>\n",
       "      <td>[caused by adblock plus][platform-rel-NYTimes]</td>\n",
       "      <td>NaN</td>\n",
       "      <td>User-Agent:       Mozilla/5.0 (Windows; U; Win...</td>\n",
       "      <td>2009-07-26T16:12:10Z</td>\n",
       "      <td>RESOLVED</td>\n",
       "      <td>Firefox</td>\n",
       "      <td>--</td>\n",
       "      <td>FIXED</td>\n",
       "      <td>normal</td>\n",
       "      <td>False</td>\n",
       "      <td>BR_506550_SRC</td>\n",
       "      <td>506550 Unreliable Back Button navigating nytim...</td>\n",
       "    </tr>\n",
       "    <tr>\n",
       "      <th>4</th>\n",
       "      <td>506575</td>\n",
       "      <td>ALT + F4 when dropdown of autocomplete is open...</td>\n",
       "      <td>x86</td>\n",
       "      <td>Address Bar</td>\n",
       "      <td>3.5 Branch</td>\n",
       "      <td>2009-07-26T20:14:54Z</td>\n",
       "      <td>NaN</td>\n",
       "      <td>NaN</td>\n",
       "      <td>Pressing ALT + F4 when the autocomplete dropdo...</td>\n",
       "      <td>2009-07-26T20:14:54Z</td>\n",
       "      <td>NEW</td>\n",
       "      <td>Firefox</td>\n",
       "      <td>P5</td>\n",
       "      <td>NaN</td>\n",
       "      <td>normal</td>\n",
       "      <td>True</td>\n",
       "      <td>BR_506575_SRC</td>\n",
       "      <td>506575 ALT + F4 when dropdown of autocomplete ...</td>\n",
       "    </tr>\n",
       "  </tbody>\n",
       "</table>\n",
       "</div>"
      ],
      "text/plain": [
       "   Bug_Number                                            Summary Platform  \\\n",
       "0      506297  Livemarks with null site/feed uris cause sync ...      All   \n",
       "1      506338     Enhance Crash Recovery to better help the user      All   \n",
       "2      506507  Dragging multiple bookmarks in the bookmarks s...      x86   \n",
       "3      506550      Unreliable Back Button navigating nytimes.com      x86   \n",
       "4      506575  ALT + F4 when dropdown of autocomplete is open...      x86   \n",
       "\n",
       "                 Component      Version         Creation_Time  \\\n",
       "0                     Sync  unspecified  2009-07-24T17:08:43Z   \n",
       "1          Session Restore        Trunk  2009-07-24T19:17:21Z   \n",
       "2      Bookmarks & History        Trunk  2009-07-26T06:16:02Z   \n",
       "3  Extension Compatibility   3.5 Branch  2009-07-26T16:12:10Z   \n",
       "4              Address Bar   3.5 Branch  2009-07-26T20:14:54Z   \n",
       "\n",
       "                                       Whiteboard QA_Whiteboard  \\\n",
       "0                                             NaN           NaN   \n",
       "1                  [crashkill][crashkill-metrics]           NaN   \n",
       "2                                             NaN           NaN   \n",
       "3  [caused by adblock plus][platform-rel-NYTimes]           NaN   \n",
       "4                                             NaN           NaN   \n",
       "\n",
       "                                  First_Comment_Text  \\\n",
       "0  2009-07-24 09:54:28     FaultTolerance       D...   \n",
       "1  When our users crash they are pretty much in t...   \n",
       "2  User-Agent:       Mozilla/5.0 (Windows; U; Win...   \n",
       "3  User-Agent:       Mozilla/5.0 (Windows; U; Win...   \n",
       "4  Pressing ALT + F4 when the autocomplete dropdo...   \n",
       "\n",
       "  First_Comment_Creation_Time    Status  Product Priority  Resolution  \\\n",
       "0        2009-07-24T17:08:43Z  RESOLVED  Firefox       --       FIXED   \n",
       "1        2009-07-24T19:17:21Z       NEW  Firefox       --         NaN   \n",
       "2        2009-07-26T06:16:02Z  RESOLVED  Firefox       --  WORKSFORME   \n",
       "3        2009-07-26T16:12:10Z  RESOLVED  Firefox       --       FIXED   \n",
       "4        2009-07-26T20:14:54Z       NEW  Firefox       P5         NaN   \n",
       "\n",
       "      Severity Is_Confirmed        br_name  \\\n",
       "0       normal         True  BR_506297_SRC   \n",
       "1  enhancement         True  BR_506338_SRC   \n",
       "2       normal         True  BR_506507_SRC   \n",
       "3       normal        False  BR_506550_SRC   \n",
       "4       normal         True  BR_506575_SRC   \n",
       "\n",
       "                                             br_desc  \n",
       "0  506297 Livemarks with null site/feed uris caus...  \n",
       "1  506338 Enhance Crash Recovery to better help t...  \n",
       "2  506507 Dragging multiple bookmarks in the book...  \n",
       "3  506550 Unreliable Back Button navigating nytim...  \n",
       "4  506575 ALT + F4 when dropdown of autocomplete ...  "
      ]
     },
     "execution_count": 3,
     "metadata": {},
     "output_type": "execute_result"
    }
   ],
   "source": [
    "bugreports_final.head()"
   ]
  },
  {
   "cell_type": "code",
   "execution_count": 4,
   "metadata": {},
   "outputs": [
    {
     "data": {
      "text/plain": [
       "FIXED         10669\n",
       "DUPLICATE      5540\n",
       "INCOMPLETE     3415\n",
       "WORKSFORME     3008\n",
       "INVALID        2826\n",
       "WONTFIX        2419\n",
       "INACTIVE        448\n",
       "MOVED             1\n",
       "Name: Resolution, dtype: int64"
      ]
     },
     "execution_count": 4,
     "metadata": {},
     "output_type": "execute_result"
    }
   ],
   "source": [
    "bugreports_final.Resolution.value_counts()"
   ]
  },
  {
   "cell_type": "code",
   "execution_count": 5,
   "metadata": {},
   "outputs": [
    {
     "data": {
      "text/plain": [
       "RESOLVED       24665\n",
       "NEW             5349\n",
       "VERIFIED        3661\n",
       "UNCONFIRMED     1086\n",
       "REOPENED         222\n",
       "ASSIGNED         134\n",
       "Name: Status, dtype: int64"
      ]
     },
     "execution_count": 5,
     "metadata": {},
     "output_type": "execute_result"
    }
   ],
   "source": [
    "bugreports_final.Status.value_counts()"
   ]
  },
  {
   "cell_type": "code",
   "execution_count": 6,
   "metadata": {},
   "outputs": [
    {
     "data": {
      "text/plain": [
       "--    23138\n",
       "P3     4070\n",
       "P1     3702\n",
       "P5     2465\n",
       "P2     1336\n",
       "P4      406\n",
       "Name: Priority, dtype: int64"
      ]
     },
     "execution_count": 6,
     "metadata": {},
     "output_type": "execute_result"
    }
   ],
   "source": [
    "bugreports_final.Priority.value_counts()"
   ]
  },
  {
   "cell_type": "code",
   "execution_count": 7,
   "metadata": {},
   "outputs": [
    {
     "data": {
      "text/plain": [
       "normal         30613\n",
       "enhancement     1831\n",
       "critical         883\n",
       "major            842\n",
       "minor            615\n",
       "trivial          270\n",
       "blocker           63\n",
       "Name: Severity, dtype: int64"
      ]
     },
     "execution_count": 7,
     "metadata": {},
     "output_type": "execute_result"
    }
   ],
   "source": [
    "bugreports_final.Severity.value_counts()"
   ]
  },
  {
   "cell_type": "markdown",
   "metadata": {},
   "source": [
    "# Bug Reports Selection"
   ]
  },
  {
   "cell_type": "code",
   "execution_count": 8,
   "metadata": {},
   "outputs": [
    {
     "name": "stdout",
     "output_type": "stream",
     "text": [
      "(93, 18)\n"
     ]
    }
   ],
   "source": [
    "brs_versions = ['48 Branch', '49 Branch', '50 Branch', '51 Branch']\n",
    "brs_status = ['RESOLVED','VERIFIED']\n",
    "brs_priority = ['P1', 'P2', 'P3']\n",
    "brs_resolutions = ['FIXED']\n",
    "brs_severities = ['major', 'normal', 'blocker', 'critical']\n",
    "brs_isconfirmed = [True]\n",
    "selected_bugs = bugreports_final[(bugreports_final.Version.isin(brs_versions)) &\n",
    "                                 (bugreports_final.Status.isin(brs_status)) &\n",
    "                                 (bugreports_final.Priority.isin(brs_priority)) &\n",
    "                                 (bugreports_final.Resolution.isin(brs_resolutions)) &\n",
    "                                 (bugreports_final.Severity.isin(brs_severities)) &\n",
    "                                 (bugreports_final.Is_Confirmed.isin(brs_isconfirmed))\n",
    "                                ]\n",
    "print(selected_bugs.shape)"
   ]
  },
  {
   "cell_type": "markdown",
   "metadata": {},
   "source": [
    "## Bug Reports Selection after Complementary Data (01-02/06/2016)"
   ]
  },
  {
   "cell_type": "code",
   "execution_count": 9,
   "metadata": {},
   "outputs": [
    {
     "name": "stdout",
     "output_type": "stream",
     "text": [
      "(0, 18)\n"
     ]
    }
   ],
   "source": [
    "brs_ids = [ '882753',  '945665', '1127927', '1154922', '1223550', '1265967', '1266270',\n",
    "       '1271395', '1271766', '1271774', '1274459', '1274712', '1276070', '1276152',\n",
    "       '1276447', '1276656', '1276818', '1276884', '1276966', '1277114', '1277151',\n",
    "       '1277257']\n",
    "brs_versions = ['48 Branch', '49 Branch', '50 Branch', '51 Branch']\n",
    "brs_status = ['RESOLVED','VERIFIED']\n",
    "brs_priority = ['P1', 'P2', 'P3']\n",
    "brs_resolutions = ['FIXED']\n",
    "brs_severities = ['major', 'normal', 'blocker', 'critical']\n",
    "brs_isconfirmed = [True]\n",
    "selected_bugs_2 = bugreports_final[(bugreports_final.Bug_Number.isin(brs_ids)) &\n",
    "                                 (bugreports_final.Version.isin(brs_versions)) &\n",
    "                                 (bugreports_final.Status.isin(brs_status)) &\n",
    "                                 (bugreports_final.Priority.isin(brs_priority)) &\n",
    "                                 (bugreports_final.Resolution.isin(brs_resolutions)) &\n",
    "                                 (bugreports_final.Severity.isin(brs_severities)) &\n",
    "                                 (bugreports_final.Is_Confirmed.isin(brs_isconfirmed))\n",
    "                                ]\n",
    "print(selected_bugs_2.shape)"
   ]
  },
  {
   "cell_type": "markdown",
   "metadata": {},
   "source": [
    "**There is no NEW bug reports for analysis of the volunteers so any tasks are created from this data!!**"
   ]
  },
  {
   "cell_type": "markdown",
   "metadata": {},
   "source": [
    "# Bug Report Selection Analysis"
   ]
  },
  {
   "cell_type": "markdown",
   "metadata": {},
   "source": [
    "## Distribution of Length of First Comment"
   ]
  },
  {
   "cell_type": "code",
   "execution_count": 10,
   "metadata": {},
   "outputs": [
    {
     "data": {
      "text/plain": [
       "(array([26., 26., 20., 13.,  2.,  2.,  2.,  0.,  1.,  1.]),\n",
       " array([  78. ,  344.9,  611.8,  878.7, 1145.6, 1412.5, 1679.4, 1946.3,\n",
       "        2213.2, 2480.1, 2747. ]),\n",
       " <a list of 10 Patch objects>)"
      ]
     },
     "execution_count": 10,
     "metadata": {},
     "output_type": "execute_result"
    },
    {
     "data": {
      "image/png": "[encoded data removed]",
      "text/plain": [
       "<Figure size 432x288 with 1 Axes>"
      ]
     },
     "metadata": {
      "needs_background": "light"
     },
     "output_type": "display_data"
    }
   ],
   "source": [
    "plt.hist(selected_bugs.First_Comment_Text.apply(lambda x : len(x)))"
   ]
  },
  {
   "cell_type": "markdown",
   "metadata": {},
   "source": [
    "## Distribution of Versions"
   ]
  },
  {
   "cell_type": "code",
   "execution_count": 11,
   "metadata": {},
   "outputs": [
    {
     "name": "stdout",
     "output_type": "stream",
     "text": [
      "51 Branch    37\n",
      "50 Branch    20\n",
      "48 Branch    19\n",
      "49 Branch    17\n",
      "Name: Version, dtype: int64\n"
     ]
    },
    {
     "data": {
      "text/plain": [
       "<matplotlib.axes._subplots.AxesSubplot at 0x7f0dfe7c1978>"
      ]
     },
     "metadata": {},
     "output_type": "display_data"
    },
    {
     "data": {
      "image/png": "[encoded data removed]",
      "text/plain": [
       "<Figure size 432x288 with 1 Axes>"
      ]
     },
     "metadata": {
      "needs_background": "light"
     },
     "output_type": "display_data"
    }
   ],
   "source": [
    "print(selected_bugs.Version.value_counts())\n",
    "display(sns.countplot(selected_bugs.Version))"
   ]
  },
  {
   "cell_type": "markdown",
   "metadata": {},
   "source": [
    "## Distribution of Status"
   ]
  },
  {
   "cell_type": "code",
   "execution_count": 12,
   "metadata": {},
   "outputs": [
    {
     "name": "stdout",
     "output_type": "stream",
     "text": [
      "VERIFIED    54\n",
      "RESOLVED    39\n",
      "Name: Status, dtype: int64\n"
     ]
    },
    {
     "data": {
      "text/plain": [
       "<matplotlib.axes._subplots.AxesSubplot at 0x7f0dfe76d5f8>"
      ]
     },
     "metadata": {},
     "output_type": "display_data"
    },
    {
     "data": {
      "image/png": "[encoded data removed]",
      "text/plain": [
       "<Figure size 432x288 with 1 Axes>"
      ]
     },
     "metadata": {
      "needs_background": "light"
     },
     "output_type": "display_data"
    }
   ],
   "source": [
    "print(selected_bugs.Status.value_counts())\n",
    "display(sns.countplot(selected_bugs.Status))"
   ]
  },
  {
   "cell_type": "markdown",
   "metadata": {},
   "source": [
    "## Distribution of Priorities"
   ]
  },
  {
   "cell_type": "code",
   "execution_count": 13,
   "metadata": {},
   "outputs": [
    {
     "name": "stdout",
     "output_type": "stream",
     "text": [
      "P1    46\n",
      "P2    28\n",
      "P3    19\n",
      "Name: Priority, dtype: int64\n"
     ]
    },
    {
     "data": {
      "text/plain": [
       "<matplotlib.axes._subplots.AxesSubplot at 0x7f0dfeaf9358>"
      ]
     },
     "metadata": {},
     "output_type": "display_data"
    },
    {
     "data": {
      "image/png": "[encoded data removed]",
      "text/plain": [
       "<Figure size 432x288 with 1 Axes>"
      ]
     },
     "metadata": {
      "needs_background": "light"
     },
     "output_type": "display_data"
    }
   ],
   "source": [
    "print(selected_bugs.Priority.value_counts())\n",
    "display(sns.countplot(selected_bugs.Priority))"
   ]
  },
  {
   "cell_type": "markdown",
   "metadata": {},
   "source": [
    "## Distribution of Resolutions"
   ]
  },
  {
   "cell_type": "code",
   "execution_count": 14,
   "metadata": {},
   "outputs": [
    {
     "name": "stdout",
     "output_type": "stream",
     "text": [
      "FIXED    93\n",
      "Name: Resolution, dtype: int64\n"
     ]
    },
    {
     "data": {
      "text/plain": [
       "<matplotlib.axes._subplots.AxesSubplot at 0x7f0dfe672208>"
      ]
     },
     "metadata": {},
     "output_type": "display_data"
    },
    {
     "data": {
      "image/png": "[encoded data removed]",
      "text/plain": [
       "<Figure size 432x288 with 1 Axes>"
      ]
     },
     "metadata": {
      "needs_background": "light"
     },
     "output_type": "display_data"
    }
   ],
   "source": [
    "print(selected_bugs.Resolution.value_counts())\n",
    "display(sns.countplot(selected_bugs.Resolution))"
   ]
  },
  {
   "cell_type": "markdown",
   "metadata": {},
   "source": [
    "## Distribution of Severities"
   ]
  },
  {
   "cell_type": "code",
   "execution_count": 15,
   "metadata": {},
   "outputs": [
    {
     "name": "stdout",
     "output_type": "stream",
     "text": [
      "normal    91\n",
      "major      2\n",
      "Name: Severity, dtype: int64\n"
     ]
    },
    {
     "data": {
      "text/plain": [
       "<matplotlib.axes._subplots.AxesSubplot at 0x7f0dfe6af860>"
      ]
     },
     "metadata": {},
     "output_type": "display_data"
    },
    {
     "data": {
      "image/png": "[encoded data removed]",
      "text/plain": [
       "<Figure size 432x288 with 1 Axes>"
      ]
     },
     "metadata": {
      "needs_background": "light"
     },
     "output_type": "display_data"
    }
   ],
   "source": [
    "print(selected_bugs.Severity.value_counts())\n",
    "display(sns.countplot(selected_bugs.Severity))"
   ]
  },
  {
   "cell_type": "markdown",
   "metadata": {},
   "source": [
    "## Distribution of IsConfirmed"
   ]
  },
  {
   "cell_type": "code",
   "execution_count": 16,
   "metadata": {},
   "outputs": [
    {
     "name": "stdout",
     "output_type": "stream",
     "text": [
      "True    93\n",
      "Name: Is_Confirmed, dtype: int64\n"
     ]
    },
    {
     "data": {
      "text/plain": [
       "<matplotlib.axes._subplots.AxesSubplot at 0x7f0dfe60fcc0>"
      ]
     },
     "metadata": {},
     "output_type": "display_data"
    },
    {
     "data": {
      "image/png": "[encoded data removed]",
      "text/plain": [
       "<Figure size 432x288 with 1 Axes>"
      ]
     },
     "metadata": {
      "needs_background": "light"
     },
     "output_type": "display_data"
    }
   ],
   "source": [
    "print(selected_bugs.Is_Confirmed.value_counts())\n",
    "display(sns.countplot(selected_bugs.Is_Confirmed))"
   ]
  },
  {
   "cell_type": "markdown",
   "metadata": {},
   "source": [
    "# Selected Bug Reports Saving Dataframe"
   ]
  },
  {
   "cell_type": "code",
   "execution_count": 20,
   "metadata": {},
   "outputs": [
    {
     "name": "stdout",
     "output_type": "stream",
     "text": [
      "(93, 18)\n"
     ]
    }
   ],
   "source": [
    "print(selected_bugs.shape)\n",
    "selected_bugs.to_csv('../data/mozilla_firefox_v2/firefoxDataset/docs_english/BR/selected_bugreports_final.csv', index=False)"
   ]
  },
  {
   "cell_type": "markdown",
   "metadata": {},
   "source": [
    "# Features Preprocessing"
   ]
  },
  {
   "cell_type": "code",
   "execution_count": 18,
   "metadata": {},
   "outputs": [
    {
     "data": {
      "text/html": [
       "<div>\n",
       "<style scoped>\n",
       "    .dataframe tbody tr th:only-of-type {\n",
       "        vertical-align: middle;\n",
       "    }\n",
       "\n",
       "    .dataframe tbody tr th {\n",
       "        vertical-align: top;\n",
       "    }\n",
       "\n",
       "    .dataframe thead th {\n",
       "        text-align: right;\n",
       "    }\n",
       "</style>\n",
       "<table border=\"1\" class=\"dataframe\">\n",
       "  <thead>\n",
       "    <tr style=\"text-align: right;\">\n",
       "      <th></th>\n",
       "      <th>Feature_Number</th>\n",
       "      <th>Feature_Shortname</th>\n",
       "      <th>Firefox_Version</th>\n",
       "      <th>Firefox_Feature</th>\n",
       "      <th>Feature_Description</th>\n",
       "      <th>Reference</th>\n",
       "      <th>feat_name</th>\n",
       "      <th>feat_desc</th>\n",
       "    </tr>\n",
       "  </thead>\n",
       "  <tbody>\n",
       "    <tr>\n",
       "      <th>0</th>\n",
       "      <td>1</td>\n",
       "      <td>new_awesome_bar</td>\n",
       "      <td>48 Branch + 50 Branch</td>\n",
       "      <td>New Awesome Bar</td>\n",
       "      <td>The Firefox address bar displays a page's web ...</td>\n",
       "      <td>https://support.mozilla.org/en-US/kb/awesome-b...</td>\n",
       "      <td>new_awesome_bar</td>\n",
       "      <td>1 new_awesome_bar 48 Branch + 50 Branch New Aw...</td>\n",
       "    </tr>\n",
       "    <tr>\n",
       "      <th>1</th>\n",
       "      <td>2</td>\n",
       "      <td>windows_child_mode</td>\n",
       "      <td>48 Branch</td>\n",
       "      <td>Windows Child Mode</td>\n",
       "      <td>Child mode is a feature of Windows that allows...</td>\n",
       "      <td>https://wiki.mozilla.org/QA/Windows_Child_Mode</td>\n",
       "      <td>windows_child_mode</td>\n",
       "      <td>2 windows_child_mode 48 Branch Windows Child M...</td>\n",
       "    </tr>\n",
       "    <tr>\n",
       "      <th>2</th>\n",
       "      <td>3</td>\n",
       "      <td>apz_async_scrolling</td>\n",
       "      <td>48 Branch</td>\n",
       "      <td>APZ - Async Scrolling</td>\n",
       "      <td>The Async Pan/Zoom module (APZ) is a platform ...</td>\n",
       "      <td>https://wiki.mozilla.org/Platform/GFX/APZ</td>\n",
       "      <td>apz_async_scrolling</td>\n",
       "      <td>3 apz_async_scrolling 48 Branch APZ - Async Sc...</td>\n",
       "    </tr>\n",
       "    <tr>\n",
       "      <th>3</th>\n",
       "      <td>4</td>\n",
       "      <td>browser_customization</td>\n",
       "      <td>49 Branch</td>\n",
       "      <td>Browser Customization</td>\n",
       "      <td>. Install and Customize Firefox Themes. \\n. Cu...</td>\n",
       "      <td>https://support.mozilla.org/en-US/kb/use-theme...</td>\n",
       "      <td>browser_customization</td>\n",
       "      <td>4 browser_customization 49 Branch Browser Cust...</td>\n",
       "    </tr>\n",
       "    <tr>\n",
       "      <th>4</th>\n",
       "      <td>5</td>\n",
       "      <td>pdf_viewer</td>\n",
       "      <td>49 Branch</td>\n",
       "      <td>PDF Viewer</td>\n",
       "      <td>Zoom in, Zoom out, Print and Save PDF Files.</td>\n",
       "      <td>https://support.mozilla.org/en-US/kb/view-pdf-...</td>\n",
       "      <td>pdf_viewer</td>\n",
       "      <td>5 pdf_viewer 49 Branch PDF Viewer Zoom in, Zoo...</td>\n",
       "    </tr>\n",
       "  </tbody>\n",
       "</table>\n",
       "</div>"
      ],
      "text/plain": [
       "   Feature_Number      Feature_Shortname        Firefox_Version  \\\n",
       "0               1        new_awesome_bar  48 Branch + 50 Branch   \n",
       "1               2     windows_child_mode              48 Branch   \n",
       "2               3    apz_async_scrolling              48 Branch   \n",
       "3               4  browser_customization              49 Branch   \n",
       "4               5             pdf_viewer              49 Branch   \n",
       "\n",
       "         Firefox_Feature                                Feature_Description  \\\n",
       "0        New Awesome Bar  The Firefox address bar displays a page's web ...   \n",
       "1     Windows Child Mode  Child mode is a feature of Windows that allows...   \n",
       "2  APZ - Async Scrolling  The Async Pan/Zoom module (APZ) is a platform ...   \n",
       "3  Browser Customization  . Install and Customize Firefox Themes. \\n. Cu...   \n",
       "4             PDF Viewer       Zoom in, Zoom out, Print and Save PDF Files.   \n",
       "\n",
       "                                           Reference              feat_name  \\\n",
       "0  https://support.mozilla.org/en-US/kb/awesome-b...        new_awesome_bar   \n",
       "1     https://wiki.mozilla.org/QA/Windows_Child_Mode     windows_child_mode   \n",
       "2          https://wiki.mozilla.org/Platform/GFX/APZ    apz_async_scrolling   \n",
       "3  https://support.mozilla.org/en-US/kb/use-theme...  browser_customization   \n",
       "4  https://support.mozilla.org/en-US/kb/view-pdf-...             pdf_viewer   \n",
       "\n",
       "                                           feat_desc  \n",
       "0  1 new_awesome_bar 48 Branch + 50 Branch New Aw...  \n",
       "1  2 windows_child_mode 48 Branch Windows Child M...  \n",
       "2  3 apz_async_scrolling 48 Branch APZ - Async Sc...  \n",
       "3  4 browser_customization 49 Branch Browser Cust...  \n",
       "4  5 pdf_viewer 49 Branch PDF Viewer Zoom in, Zoo...  "
      ]
     },
     "execution_count": 18,
     "metadata": {},
     "output_type": "execute_result"
    }
   ],
   "source": [
    "features_df['feat_name'] = features_df['Feature_Shortname']\n",
    "features_df['feat_desc'] = features_df.apply(lambda row : ' '.join([str(el) for el in row]), axis=1)\n",
    "features_df.head()"
   ]
  },
  {
   "cell_type": "markdown",
   "metadata": {},
   "source": [
    "# Save Final Features Dataframe"
   ]
  },
  {
   "cell_type": "code",
   "execution_count": 19,
   "metadata": {},
   "outputs": [],
   "source": [
    "features_df.to_csv('../data/mozilla_firefox_v2/firefoxDataset/docs_english/Features/features_final.csv', index=False)"
   ]
  }
 ],
 "metadata": {
  "kernelspec": {
   "display_name": "Python 3",
   "language": "python",
   "name": "python3"
  },
  "language_info": {
   "codemirror_mode": {
    "name": "ipython",
    "version": 3
   },
   "file_extension": ".py",
   "mimetype": "text/x-python",
   "name": "python",
   "nbconvert_exporter": "python",
   "pygments_lexer": "ipython3",
   "version": "3.7.3"
  }
 },
 "nbformat": 4,
 "nbformat_minor": 2
}
