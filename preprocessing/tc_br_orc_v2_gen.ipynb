{
 "cells": [
  {
   "cell_type": "markdown",
   "metadata": {},
   "source": [
    "# Introduction - Oracle Version 2\n",
    "\n",
    "Notebook to load **bug reports**, **test cases** datasets and the **feature_matrixes** from the expert and volunteers responses given in the PyBossa applications, and create from them the **oracle** dataset. \n",
    "\n",
    "In this notebook we create a version of the oracle based on the results obtained from the empirical study made with volunteers and the PyBossa application. The relationship between bug reports and test cases is established through the firefox features shared between both artifacts.\n",
    "\n",
    "Is expected that this oracle be more precise than the version created on the previous notebook (__tc_br_orc_v1_gen__), once the trace links are created based on the existing relationship between the bug report and a given Firefox Feature."
   ]
  },
  {
   "cell_type": "markdown",
   "metadata": {},
   "source": [
    "# Load Libraries and Data"
   ]
  },
  {
   "cell_type": "code",
   "execution_count": 48,
   "metadata": {},
   "outputs": [],
   "source": [
    "from mod_finder_util import mod_finder_util\n",
    "mod_finder_util.add_modules_origin_search_path()\n",
    "\n",
    "import pandas as pd\n",
    "import numpy as np\n",
    "from tqdm import tqdm\n",
    "\n",
    "from modules.utils import aux_functions\n",
    "from modules.utils import data_origin as do\n",
    "\n",
    "import modules.utils.firefox_dataset_p2 as fd"
   ]
  },
  {
   "cell_type": "code",
   "execution_count": 49,
   "metadata": {},
   "outputs": [
    {
     "name": "stdout",
     "output_type": "stream",
     "text": [
      "TestCases.shape: (195, 12)\n",
      "SelectedBugReports.shape: (91, 18)\n",
      "Features.shape: (19, 8)\n",
      "\n",
      "Feat_BR Expert Matrix shape: (91, 19)\n",
      "Feat_BR Volunteers Matrix shape: (91, 19)\n",
      "Expert and Volunteers Matrix UNION.shape: (91, 19)\n",
      "Expert and Volunteers Matrix INTERSEC.shape: (91, 19)\n",
      "\n",
      "BR_2_Features Matrix Final.shape: (91, 5)\n"
     ]
    }
   ],
   "source": [
    "testcases = fd.Datasets.read_testcases_df()\n",
    "bugreports = fd.Datasets.read_selected_bugreports_df()\n",
    "features = fd.Datasets.read_features_df()\n",
    "\n",
    "print()\n",
    "expert_matrix = fd.Feat_BR_Oracles.read_feat_br_expert_df()\n",
    "volunteers_matrix = fd.Feat_BR_Oracles.read_feat_br_volunteers_df()\n",
    "exp_vol_union_matrix = fd.Feat_BR_Oracles.read_feat_br_expert_volunteers_union_df()\n",
    "exp_vol_intersec_matrix = fd.Feat_BR_Oracles.read_feat_br_expert_volunteers_intersec_df()\n",
    "\n",
    "print()\n",
    "br_2_feature_matrix_final = fd.Feat_BR_Oracles.read_br_2_features_matrix_final_df()"
   ]
  },
  {
   "cell_type": "markdown",
   "metadata": {
    "toc-hr-collapsed": true
   },
   "source": [
    "## Test Cases x Bug Reports Trace Matrix"
   ]
  },
  {
   "cell_type": "markdown",
   "metadata": {},
   "source": [
    "### Checking Link Condition Function\n",
    "\n",
    "Check link condition function to decide if a given cell in the oracle has a positive link (1) or a negative link (0)."
   ]
  },
  {
   "cell_type": "code",
   "execution_count": 50,
   "metadata": {},
   "outputs": [],
   "source": [
    "def check_link_condition(br, tc, data_origin):\n",
    "    col_name = \"\"\n",
    "    if data_origin == do.DataOrigin.VOLUNTEERS:\n",
    "        col_name = \"Features_IDs_vol_m\"\n",
    "    elif data_origin == do.DataOrigin.EXPERT:\n",
    "        col_name = \"Features_IDs_exp_m\"\n",
    "    elif data_origin == do.DataOrigin.VOLUNTEERS_AND_EXPERT_UNION:\n",
    "        col_name = \"Features_IDs_exp_vol_union_m\"\n",
    "    elif data_origin == do.DataOrigin.VOLUNTEERS_AND_EXPERT_INTERSEC:\n",
    "        col_name = \"Features_IDs_exp_vol_intersec_m\"\n",
    "    \n",
    "    if str(tc.Feature_ID) in br_2_feature_matrix_final.at[str(br.Bug_Number), col_name].split(\" \"):\n",
    "        return True\n",
    "    return False    "
   ]
  },
  {
   "cell_type": "markdown",
   "metadata": {},
   "source": [
    "### Generate Oracles"
   ]
  },
  {
   "cell_type": "code",
   "execution_count": 51,
   "metadata": {},
   "outputs": [
    {
     "name": "stderr",
     "output_type": "stream",
     "text": [
      "91it [00:02, 41.86it/s]\n",
      "91it [00:02, 41.87it/s]\n",
      "91it [00:02, 41.95it/s]\n",
      "91it [00:02, 42.55it/s]"
     ]
    },
    {
     "name": "stdout",
     "output_type": "stream",
     "text": [
      "oracle_volunteers_df.shape: (195, 91)\n",
      "oracle_expert_df.shape: (195, 91)\n",
      "oracle_expert_volunteers_union_df.shape: (195, 91)\n",
      "oracle_expert_volunteers_intersec_df.shape: (195, 91)\n"
     ]
    },
    {
     "name": "stderr",
     "output_type": "stream",
     "text": [
      "\n"
     ]
    }
   ],
   "source": [
    "def generate_oracle(data_origin):\n",
    "    cols = [br.Bug_Number for idx,br in bugreports.iterrows()]\n",
    "    index = [tc.TC_Number for idx,tc in testcases.iterrows()]\n",
    "    oracle_df = pd.DataFrame(columns=cols, index=index, data=np.zeros(shape=(len(testcases),len(bugreports))), dtype='int8')\n",
    "    for idx_1,br in tqdm(bugreports.iterrows()):\n",
    "        for idx_2,tc in testcases.iterrows():\n",
    "            if check_link_condition(br, tc, data_origin):\n",
    "                oracle_df.at[tc.TC_Number, br.Bug_Number] = 1\n",
    "            else:\n",
    "                oracle_df.at[tc.TC_Number, br.Bug_Number] = 0\n",
    "    \n",
    "    oracle_df.index.name = 'TC_Number'\n",
    "    oracle_df.columns.name = 'Bug_Number'\n",
    "    return oracle_df\n",
    "\n",
    "oracle_volunteers_df = generate_oracle(do.DataOrigin.VOLUNTEERS)\n",
    "oracle_expert_df = generate_oracle(do.DataOrigin.EXPERT)\n",
    "oracle_expert_volunteers_union_df = generate_oracle(do.DataOrigin.VOLUNTEERS_AND_EXPERT_UNION)\n",
    "oracle_expert_volunteers_intersec_df = generate_oracle(do.DataOrigin.VOLUNTEERS_AND_EXPERT_INTERSEC)\n",
    "\n",
    "print('oracle_volunteers_df.shape: {}'.format(oracle_volunteers_df.shape))\n",
    "print('oracle_expert_df.shape: {}'.format(oracle_expert_df.shape))\n",
    "print('oracle_expert_volunteers_union_df.shape: {}'.format(oracle_expert_volunteers_union_df.shape))\n",
    "print('oracle_expert_volunteers_intersec_df.shape: {}'.format(oracle_expert_volunteers_intersec_df.shape))"
   ]
  },
  {
   "cell_type": "markdown",
   "metadata": {},
   "source": [
    "### Save Oracles"
   ]
  },
  {
   "cell_type": "code",
   "execution_count": 52,
   "metadata": {},
   "outputs": [
    {
     "name": "stdout",
     "output_type": "stream",
     "text": [
      "OracleExpert.shape: (195, 91)\n",
      "OracleVolunteers.shape: (195, 91)\n",
      "OracleExpertVolunteers_UNION.shape: (195, 91)\n",
      "OracleExpertVolunteers_INTERSEC.shape: (195, 91)\n"
     ]
    }
   ],
   "source": [
    "fd.Tc_BR_Oracles.write_oracle_expert_df(oracle_expert_df)\n",
    "fd.Tc_BR_Oracles.write_oracle_volunteers_df(oracle_volunteers_df)\n",
    "fd.Tc_BR_Oracles.write_oracle_expert_volunteers_union_df(oracle_expert_volunteers_union_df)\n",
    "fd.Tc_BR_Oracles.write_oracle_expert_volunteers_intersec_df(oracle_expert_volunteers_intersec_df)"
   ]
  }
 ],
 "metadata": {
  "kernelspec": {
   "display_name": "Python 3",
   "language": "python",
   "name": "python3"
  },
  "language_info": {
   "codemirror_mode": {
    "name": "ipython",
    "version": 3
   },
   "file_extension": ".py",
   "mimetype": "text/x-python",
   "name": "python",
   "nbconvert_exporter": "python",
   "pygments_lexer": "ipython3",
   "version": "3.7.3"
  }
 },
 "nbformat": 4,
 "nbformat_minor": 2
}
